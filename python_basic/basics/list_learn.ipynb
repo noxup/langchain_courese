{
 "cells": [
  {
   "cell_type": "markdown",
   "metadata": {},
   "source": [
    "# Lists in Python\n",
    "\n",
    "## Introduction\n",
    "A list is a collection of items in a particular order. Lists are one of the most versatile data types in Python and can contain items of different types.\n",
    "\n",
    "## Creating a List\n",
    "You can create a list by placing all the items (elements) inside square brackets `[]`, separated by commas.\n",
    "\n",
    "```python\n",
    "# Example of a list\n",
    "my_list = [1, 2, 3, 4, 5]\n",
    "```\n",
    "\n",
    "## Accessing Elements\n",
    "You can access elements in a list by their index. Python uses zero-based indexing.\n",
    "\n",
    "```python\n",
    "# Accessing the first element\n",
    "first_element = my_list[0]\n",
    "\n",
    "# Accessing the last element\n",
    "last_element = my_list[-1]\n",
    "```\n",
    "\n",
    "## Modifying Elements\n",
    "You can modify elements in a list by assigning a new value to a specific index.\n",
    "\n",
    "```python\n",
    "# Modifying the second element\n",
    "my_list[1] = 10\n",
    "```\n",
    "\n",
    "## Adding Elements\n",
    "You can add elements to a list using the `append()`, `insert()`, or `extend()` methods.\n",
    "\n",
    "```python\n",
    "# Using append() to add an element at the end\n",
    "my_list.append(6)\n",
    "\n",
    "# Using insert() to add an element at a specific position\n",
    "my_list.insert(2, 15)\n",
    "\n",
    "# Using extend() to add multiple elements\n",
    "my_list.extend([7, 8, 9])\n",
    "```\n",
    "\n",
    "## Removing Elements\n",
    "You can remove elements from a list using the `remove()`, `pop()`, or `del` statement.\n",
    "\n",
    "```python\n",
    "# Using remove() to remove a specific element\n",
    "my_list.remove(10)\n",
    "\n",
    "# Using pop() to remove an element at a specific index\n",
    "popped_element = my_list.pop(2)\n",
    "\n",
    "# Using del to remove an element at a specific index\n",
    "del my_list[0]\n",
    "```\n",
    "\n",
    "## List Comprehensions\n",
    "List comprehensions provide a concise way to create lists.\n",
    "\n",
    "```python\n",
    "# Example of a list comprehension\n",
    "squares = [x**2 for x in range(10)]\n",
    "```\n",
    "\n",
    "## Common List Methods\n",
    "- `append()`: Adds an element at the end of the list.\n",
    "- `insert()`: Adds an element at a specified position.\n",
    "- `extend()`: Adds multiple elements at the end of the list.\n",
    "- `remove()`: Removes the first item with the specified value.\n",
    "- `pop()`: Removes the element at the specified position.\n",
    "- `clear()`: Removes all elements from the list.\n",
    "- `index()`: Returns the index of the first element with the specified value.\n",
    "- `count()`: Returns the number of elements with the specified value.\n",
    "- `sort()`: Sorts the list in ascending order.\n",
    "- `reverse()`: Reverses the order of the list.\n",
    "- `copy()`: Returns a shallow copy of the list.\n",
    "\n",
    "## Conclusion\n",
    "Lists are a fundamental and flexible data structure in Python, allowing for efficient storage and manipulation of ordered collections of items."
   ]
  },
  {
   "cell_type": "code",
   "execution_count": 8,
   "metadata": {},
   "outputs": [
    {
     "name": "stdout",
     "output_type": "stream",
     "text": [
      "['apple', 'banana', 'cherry', 'orange']\n"
     ]
    }
   ],
   "source": [
    "fruits = [\"apple\", \"banana\", \"cherry\"]\n",
    "fruits.append(\"orange\")\n",
    "print(fruits)"
   ]
  },
  {
   "cell_type": "code",
   "execution_count": 9,
   "metadata": {},
   "outputs": [
    {
     "name": "stdout",
     "output_type": "stream",
     "text": [
      "['apple', 'banana', 'cherry', 'orange', 'orange', 'ch']\n"
     ]
    }
   ],
   "source": [
    "fruits.append(\"orange\")\n",
    "fruits.append(\"ch\")\n",
    "print(fruits)\n"
   ]
  },
  {
   "cell_type": "code",
   "execution_count": 10,
   "metadata": {},
   "outputs": [
    {
     "name": "stdout",
     "output_type": "stream",
     "text": [
      "['banana', 'cherry', 'orange', 'orange', 'ch']\n"
     ]
    }
   ],
   "source": [
    "print(fruits[1:])"
   ]
  },
  {
   "cell_type": "code",
   "execution_count": 11,
   "metadata": {},
   "outputs": [
    {
     "data": {
      "text/plain": [
       "'banana'"
      ]
     },
     "execution_count": 11,
     "metadata": {},
     "output_type": "execute_result"
    }
   ],
   "source": [
    "## list methods \n",
    "\n",
    "fruits.pop(1)\n"
   ]
  },
  {
   "cell_type": "code",
   "execution_count": 15,
   "metadata": {},
   "outputs": [
    {
     "name": "stdout",
     "output_type": "stream",
     "text": [
      "['apple', 'orange', 'orange', 'ch']\n"
     ]
    }
   ],
   "source": [
    "fruits.remove(\"cherry\")\n",
    "print(fruits)"
   ]
  }
 ],
 "metadata": {
  "kernelspec": {
   "display_name": "Python 3",
   "language": "python",
   "name": "python3"
  },
  "language_info": {
   "codemirror_mode": {
    "name": "ipython",
    "version": 3
   },
   "file_extension": ".py",
   "mimetype": "text/x-python",
   "name": "python",
   "nbconvert_exporter": "python",
   "pygments_lexer": "ipython3",
   "version": "3.12.0"
  }
 },
 "nbformat": 4,
 "nbformat_minor": 2
}
