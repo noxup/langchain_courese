{
 "cells": [
  {
   "cell_type": "markdown",
   "metadata": {},
   "source": [
    "# Notes on Modules and Packages in Python\n",
    "\n",
    "## Modules\n",
    "- A module is a single file (or files) that are imported under one import and used.\n",
    "- A module can contain definitions of functions, classes, and variables that can be used in other Python programs.\n",
    "- Example: `math`, `os`, `sys`.\n",
    "\n",
    "### Creating a Module\n",
    "- Any Python file can be a module. For example, `mymodule.py` can be imported using `import mymodule`.\n",
    "\n",
    "### Importing a Module\n",
    "- Use `import module_name` to import a module.\n",
    "- Use `from module_name import function_name` to import specific functions or variables.\n",
    "\n",
    "## Packages\n",
    "- A package is a collection of modules in directories that give a package hierarchy.\n",
    "- A package must contain a special file called `__init__.py` (can be empty) to be recognized as a package.\n",
    "\n",
    "### Creating a Package\n",
    "- Create a directory and add `__init__.py` file to it.\n",
    "- Add modules to the directory.\n",
    "\n",
    "### Importing from a Package\n",
    "- Use `import package_name.module_name` to import a module from a package.\n",
    "- Use `from package_name import module_name` to import a module directly.\n",
    "\n",
    "## Example\n",
    "```\n",
    "my_package/\n",
    "    __init__.py\n",
    "    module1.py\n",
    "    module2.py\n",
    "```\n",
    "- Importing `module1`: `import my_package.module1`\n",
    "- Importing `module2` directly: `from my_package import module2`\n",
    "\n",
    "## Commonly Used Modules\n",
    "- `math`: Provides mathematical functions.\n",
    "- `os`: Provides functions to interact with the operating system.\n",
    "- `sys`: Provides access to some variables used or maintained by the interpreter.\n",
    "- `datetime`: Supplies classes for manipulating dates and times.\n",
    "- `json`: Provides methods to work with JSON data.\n",
    "\n",
    "## Tips\n",
    "- Use `help(module_name)` to get documentation on a module.\n",
    "- Use `dir(module_name)` to get a list of all functions and variables in a module."
   ]
  },
  {
   "cell_type": "code",
   "execution_count": 3,
   "metadata": {},
   "outputs": [
    {
     "name": "stdout",
     "output_type": "stream",
     "text": [
      "2.0\n",
      "2.0\n"
     ]
    }
   ],
   "source": [
    "from math import sqrt\n",
    "import numpy as np \n",
    "print(sqrt(4))\n",
    "print(np.sqrt(4))   "
   ]
  },
  {
   "cell_type": "code",
   "execution_count": null,
   "metadata": {},
   "outputs": [],
   "source": []
  }
 ],
 "metadata": {
  "kernelspec": {
   "display_name": "Python 3",
   "language": "python",
   "name": "python3"
  },
  "language_info": {
   "codemirror_mode": {
    "name": "ipython",
    "version": 3
   },
   "file_extension": ".py",
   "mimetype": "text/x-python",
   "name": "python",
   "nbconvert_exporter": "python",
   "pygments_lexer": "ipython3",
   "version": "3.12.0"
  }
 },
 "nbformat": 4,
 "nbformat_minor": 2
}
