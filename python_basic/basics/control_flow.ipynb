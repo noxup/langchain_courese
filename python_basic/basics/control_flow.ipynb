{
 "cells": [
  {
   "cell_type": "markdown",
   "metadata": {},
   "source": [
    "# Control Flow in Python\n",
    "\n",
    "Control flow in Python refers to the order in which individual statements, instructions, or function calls are executed or evaluated. Python provides several control flow tools:\n",
    "\n",
    "1. **Conditional Statements**:\n",
    "    - `if`: Executes a block of code if a condition is true.\n",
    "    - `elif`: Executes a block of code if the previous conditions were false and the current condition is true.\n",
    "    - `else`: Executes a block of code if all previous conditions are false.\n",
    "\n",
    "    ```python\n",
    "    if condition1:\n",
    "        # code block\n",
    "    elif condition2:\n",
    "        # code block\n",
    "    else:\n",
    "        # code block\n",
    "    ```\n",
    "\n",
    "2. **Loops**:\n",
    "    - `for`: Iterates over a sequence (like a list, tuple, dictionary, set, or string) and executes a block of code for each item.\n",
    "    - `while`: Repeatedly executes a block of code as long as a condition is true.\n",
    "\n",
    "    ```python\n",
    "    for item in sequence:\n",
    "        # code block\n",
    "\n",
    "    while condition:\n",
    "        # code block\n",
    "    ```\n",
    "\n",
    "3. **Control Statements**:\n",
    "    - `break`: Exits the nearest enclosing loop.\n",
    "    - `continue`: Skips the rest of the code inside the current loop iteration and moves to the next iteration.\n",
    "    - `pass`: Does nothing and can be used as a placeholder.\n",
    "\n",
    "    ```python\n",
    "    for item in sequence:\n",
    "        if condition:\n",
    "            break\n",
    "        elif another_condition:\n",
    "            continue\n",
    "        else:\n",
    "            pass\n",
    "    ```\n",
    "\n",
    "4. **Function Calls**:\n",
    "    - Functions allow you to encapsulate code into reusable blocks. Control flow can be directed by calling functions.\n",
    "\n",
    "    ```python\n",
    "    def function_name(parameters):\n",
    "        # code block\n",
    "\n",
    "    function_name(arguments)\n",
    "    ```"
   ]
  },
  {
   "cell_type": "code",
   "execution_count": 3,
   "metadata": {},
   "outputs": [
    {
     "name": "stdout",
     "output_type": "stream",
     "text": [
      "your age is 60\n",
      "adult\n",
      "allowed to vote\n"
     ]
    }
   ],
   "source": [
    "age = int(input('please enter your age: '))\n",
    "if age >= 18:\n",
    "    print('your age is', age)\n",
    "    print('adult')\n",
    "    print(\"allowed to vote\")\n",
    "else:\n",
    "    print('your age is', age)\n",
    "    print('teenager')\n",
    "    print(\"not allowed to vote\")\n",
    "\n",
    "\n"
   ]
  },
  {
   "cell_type": "code",
   "execution_count": null,
   "metadata": {},
   "outputs": [],
   "source": []
  }
 ],
 "metadata": {
  "kernelspec": {
   "display_name": "Python 3",
   "language": "python",
   "name": "python3"
  },
  "language_info": {
   "codemirror_mode": {
    "name": "ipython",
    "version": 3
   },
   "file_extension": ".py",
   "mimetype": "text/x-python",
   "name": "python",
   "nbconvert_exporter": "python",
   "pygments_lexer": "ipython3",
   "version": "3.12.0"
  }
 },
 "nbformat": 4,
 "nbformat_minor": 2
}
