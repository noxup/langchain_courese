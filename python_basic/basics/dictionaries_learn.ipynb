{
 "cells": [
  {
   "cell_type": "markdown",
   "metadata": {},
   "source": [
    "# Dictionary in Python\n",
    "\n",
    "A dictionary in Python is an unordered collection of items. Each item is a key-value pair. Dictionaries are optimized to retrieve values when the key is known.\n",
    "\n",
    "## Key Features\n",
    "- **Unordered**: The items in a dictionary are not ordered.\n",
    "- **Mutable**: Dictionaries can be changed after creation.\n",
    "- **Indexed by Keys**: Each value is accessed using its key.\n",
    "\n",
    "## Creating a Dictionary\n",
    "```python\n",
    "my_dict = {\n",
    "    'name': 'John',\n",
    "    'age': 25,\n",
    "    'city': 'New York'\n",
    "}\n",
    "```\n",
    "\n",
    "## Accessing Values\n",
    "```python\n",
    "print(my_dict['name'])  # Output: John\n",
    "```\n",
    "\n",
    "## Adding or Updating Items\n",
    "```python\n",
    "my_dict['email'] = 'john@example.com'  # Adding a new key-value pair\n",
    "my_dict['age'] = 26  # Updating an existing key-value pair\n",
    "```\n",
    "\n",
    "## Removing Items\n",
    "```python\n",
    "del my_dict['city']  # Removes the key 'city' and its value\n",
    "```\n",
    "\n",
    "## Iterating Through a Dictionary\n",
    "```python\n",
    "for key, value in my_dict.items():\n",
    "    print(f\"{key}: {value}\")\n",
    "```\n",
    "\n",
    "## Common Methods\n",
    "- `my_dict.keys()`: Returns a view object of all keys.\n",
    "- `my_dict.values()`: Returns a view object of all values.\n",
    "- `my_dict.items()`: Returns a view object of all key-value pairs.\n",
    "- `my_dict.get(key)`: Returns the value for the specified key if the key is in the dictionary.\n",
    "\n",
    "Dictionaries are a powerful and flexible way to store and manipulate data in Python."
   ]
  },
  {
   "cell_type": "code",
   "execution_count": 1,
   "metadata": {},
   "outputs": [
    {
     "name": "stdout",
     "output_type": "stream",
     "text": [
      "<class 'dict'>\n"
     ]
    }
   ],
   "source": [
    "dict ={}\n",
    "print(type(dict))\n"
   ]
  },
  {
   "cell_type": "code",
   "execution_count": 3,
   "metadata": {},
   "outputs": [
    {
     "name": "stdout",
     "output_type": "stream",
     "text": [
      "{'Name': 'Zara', 'Age': 7, 'Class': 'First'}\n"
     ]
    }
   ],
   "source": [
    "dict = {'Name': 'Zara', 'Age': 7, 'Class': 'First'}\n",
    "print(dict)"
   ]
  },
  {
   "cell_type": "code",
   "execution_count": 6,
   "metadata": {},
   "outputs": [
    {
     "name": "stdout",
     "output_type": "stream",
     "text": [
      "{'name': 25, 'age': 25}\n"
     ]
    }
   ],
   "source": [
    "new_dict ={\"name\":\"sai\",\"age\":25, \"name\":25}\n",
    "print(new_dict)"
   ]
  },
  {
   "cell_type": "code",
   "execution_count": 8,
   "metadata": {},
   "outputs": [
    {
     "name": "stdout",
     "output_type": "stream",
     "text": [
      "{'Name': 'Zara', 'Age': 7, 'Class': 'First'}\n"
     ]
    }
   ],
   "source": [
    "student = {'Name': 'Zara', 'Age': 7, 'Class': 'First'}\n",
    "print(student)"
   ]
  },
  {
   "cell_type": "code",
   "execution_count": 9,
   "metadata": {},
   "outputs": [
    {
     "name": "stdout",
     "output_type": "stream",
     "text": [
      "Zara\n"
     ]
    }
   ],
   "source": [
    "print(student.get('Name'))"
   ]
  },
  {
   "cell_type": "code",
   "execution_count": 10,
   "metadata": {},
   "outputs": [
    {
     "name": "stdout",
     "output_type": "stream",
     "text": [
      "sai\n"
     ]
    }
   ],
   "source": [
    "print(student.get(\"full_name\",\"sai\"))"
   ]
  },
  {
   "cell_type": "code",
   "execution_count": 13,
   "metadata": {},
   "outputs": [
    {
     "name": "stdout",
     "output_type": "stream",
     "text": [
      "{'Name': 'sai', 'Age': 7, 'Class': 'First'}\n"
     ]
    }
   ],
   "source": [
    "## modifiying the dictionary\n",
    "student['Name'] = \"sai\"#addes the key value pair\n",
    "print(student)#prints the modified dictionary"
   ]
  },
  {
   "cell_type": "code",
   "execution_count": 16,
   "metadata": {},
   "outputs": [
    {
     "name": "stdout",
     "output_type": "stream",
     "text": [
      "{'Name': 'sai', 'Age': 7, 'Class': 'First', 'usn': '1nh22cd072'}\n"
     ]
    }
   ],
   "source": [
    "usn = 'usn'\n",
    "student[usn] = \"1nh22cd072\"\n",
    "print(student)"
   ]
  },
  {
   "cell_type": "code",
   "execution_count": 18,
   "metadata": {},
   "outputs": [
    {
     "name": "stdout",
     "output_type": "stream",
     "text": [
      "{'Name': 'sai', 'Age': 7, 'Class': 'First', 'usn': '1nh22cd072'}\n",
      "{'Name': 'sai', 'Age': 7, 'Class': 'First', 'usn': '1nh22cd072'}\n"
     ]
    }
   ],
   "source": [
    "## shallow copy\n",
    "student1 = student.copy()\n",
    "print(student)\n",
    "print(student1)\n"
   ]
  },
  {
   "cell_type": "code",
   "execution_count": 20,
   "metadata": {},
   "outputs": [
    {
     "name": "stdout",
     "output_type": "stream",
     "text": [
      "{'Name': 'NAMA', 'Age': 7, 'Class': 'First', 'usn': '1nh22cd072'}\n",
      "{'Name': 'sai', 'Age': 7, 'Class': 'First', 'usn': '1nh22cd072'}\n"
     ]
    }
   ],
   "source": [
    "student['Name'] = \"NAMA\"\n",
    "print(student)\n",
    "print(student1)"
   ]
  },
  {
   "cell_type": "code",
   "execution_count": null,
   "metadata": {},
   "outputs": [],
   "source": []
  }
 ],
 "metadata": {
  "kernelspec": {
   "display_name": "Python 3",
   "language": "python",
   "name": "python3"
  },
  "language_info": {
   "codemirror_mode": {
    "name": "ipython",
    "version": 3
   },
   "file_extension": ".py",
   "mimetype": "text/x-python",
   "name": "python",
   "nbconvert_exporter": "python",
   "pygments_lexer": "ipython3",
   "version": "3.12.0"
  }
 },
 "nbformat": 4,
 "nbformat_minor": 2
}
