{
 "cells": [
  {
   "cell_type": "markdown",
   "metadata": {},
   "source": [
    "# Tuples in Python\n",
    "\n",
    "- **Definition**: A tuple is an immutable, ordered collection of elements.\n",
    "- **Syntax**: Tuples are defined by placing elements inside parentheses `()`, separated by commas.\n",
    "    ```python\n",
    "    my_tuple = (1, 2, 3)\n",
    "    ```\n",
    "- **Immutability**: Once a tuple is created, its elements cannot be changed, added, or removed.\n",
    "- **Accessing Elements**: Elements in a tuple can be accessed using indexing, starting from 0.\n",
    "    ```python\n",
    "    first_element = my_tuple[0]\n",
    "    ```\n",
    "- **Nested Tuples**: Tuples can contain other tuples as elements.\n",
    "    ```python\n",
    "    nested_tuple = (1, (2, 3), 4)\n",
    "    ```\n",
    "- **Tuple Packing and Unpacking**:\n",
    "    - Packing: Assigning multiple values to a single tuple.\n",
    "        ```python\n",
    "        packed_tuple = 1, 2, 3\n",
    "        ```\n",
    "    - Unpacking: Assigning tuple elements to multiple variables.\n",
    "        ```python\n",
    "        a, b, c = packed_tuple\n",
    "        ```\n",
    "- **Use Cases**: Tuples are used when a collection of items should not change throughout the program, such as coordinates, database records, etc.\n",
    "- **Advantages**:\n",
    "    - Faster than lists due to immutability.\n",
    "    - Can be used as keys in dictionaries because they are hashable.\n",
    "\n",
    "Example:\n",
    "```python\n",
    "coordinates = (10.0, 20.0)\n",
    "print(coordinates[0])  # Output: 10.0\n",
    "```"
   ]
  },
  {
   "cell_type": "code",
   "execution_count": 1,
   "metadata": {},
   "outputs": [
    {
     "name": "stdout",
     "output_type": "stream",
     "text": [
      "(1, 2, 3, 4, 4, 5, 6, 7, 8, 9, 10)\n"
     ]
    }
   ],
   "source": [
    "tuple_a = (1,2,3,4,4,5,6,7,8,9,10)\n",
    "\n",
    "print(tuple_a)"
   ]
  },
  {
   "cell_type": "code",
   "execution_count": 2,
   "metadata": {},
   "outputs": [
    {
     "name": "stdout",
     "output_type": "stream",
     "text": [
      "1\n"
     ]
    }
   ],
   "source": [
    "print(tuple_a[0])"
   ]
  },
  {
   "cell_type": "code",
   "execution_count": 3,
   "metadata": {},
   "outputs": [
    {
     "name": "stdout",
     "output_type": "stream",
     "text": [
      "<class 'tuple'>\n"
     ]
    }
   ],
   "source": [
    "print(type(tuple_a))"
   ]
  },
  {
   "cell_type": "code",
   "execution_count": 4,
   "metadata": {},
   "outputs": [],
   "source": [
    "list_a = tuple_a"
   ]
  },
  {
   "cell_type": "code",
   "execution_count": 5,
   "metadata": {},
   "outputs": [
    {
     "name": "stdout",
     "output_type": "stream",
     "text": [
      "(1, 2, 3, 4, 4, 5, 6, 7, 8, 9, 10)\n"
     ]
    }
   ],
   "source": [
    "print(list_a)"
   ]
  },
  {
   "cell_type": "code",
   "execution_count": 7,
   "metadata": {},
   "outputs": [
    {
     "name": "stdout",
     "output_type": "stream",
     "text": [
      "(1, 2, 3, 4, 4, 5, 6, 7, 8, 9, 10)\n"
     ]
    }
   ],
   "source": [
    "tuple_b = tuple(list_a)\n",
    "print(tuple_b)  "
   ]
  },
  {
   "cell_type": "code",
   "execution_count": 8,
   "metadata": {},
   "outputs": [
    {
     "name": "stdout",
     "output_type": "stream",
     "text": [
      "10\n"
     ]
    }
   ],
   "source": [
    "print(tuple_b[-1])"
   ]
  },
  {
   "cell_type": "code",
   "execution_count": 12,
   "metadata": {},
   "outputs": [
    {
     "name": "stdout",
     "output_type": "stream",
     "text": [
      "(10, 9, 8, 7, 6, 5, 4, 4, 3, 2, 1)\n"
     ]
    }
   ],
   "source": [
    "print(tuple_b[::-1])"
   ]
  },
  {
   "cell_type": "code",
   "execution_count": 13,
   "metadata": {},
   "outputs": [],
   "source": [
    "new_tuple = tuple_b+tuple_a"
   ]
  },
  {
   "cell_type": "code",
   "execution_count": 14,
   "metadata": {},
   "outputs": [
    {
     "name": "stdout",
     "output_type": "stream",
     "text": [
      "(1, 2, 3, 4, 4, 5, 6, 7, 8, 9, 10, 1, 2, 3, 4, 4, 5, 6, 7, 8, 9, 10)\n"
     ]
    }
   ],
   "source": [
    "print(new_tuple)"
   ]
  },
  {
   "cell_type": "code",
   "execution_count": 16,
   "metadata": {},
   "outputs": [
    {
     "name": "stdout",
     "output_type": "stream",
     "text": [
      "(1, 1, 2, 2, 3, 3, 4, 4, 4, 4, 5, 5, 6, 6, 7, 7, 8, 8, 9, 9, 10, 10)\n"
     ]
    }
   ],
   "source": [
    "sorted_new_tuple = tuple(sorted(new_tuple))\n",
    "print(sorted_new_tuple)"
   ]
  },
  {
   "cell_type": "code",
   "execution_count": null,
   "metadata": {},
   "outputs": [],
   "source": []
  }
 ],
 "metadata": {
  "kernelspec": {
   "display_name": "Python 3",
   "language": "python",
   "name": "python3"
  },
  "language_info": {
   "codemirror_mode": {
    "name": "ipython",
    "version": 3
   },
   "file_extension": ".py",
   "mimetype": "text/x-python",
   "name": "python",
   "nbconvert_exporter": "python",
   "pygments_lexer": "ipython3",
   "version": "3.12.0"
  }
 },
 "nbformat": 4,
 "nbformat_minor": 2
}
