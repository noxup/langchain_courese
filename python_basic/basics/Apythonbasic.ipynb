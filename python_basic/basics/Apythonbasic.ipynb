{
 "cells": [
  {
   "cell_type": "markdown",
   "metadata": {},
   "source": [
    "# Python Basics\n",
    "\n",
    "## 1. Variables and Data Types\n",
    "Variables are used to store data. \n",
    "Python has several data types including integers, floats, strings, and booleans.\n",
    "\n",
    "### 2. Basic Python Concepts in 10 Words\n",
    "- Variables: Store data values.\n",
    "- Data Types: Integer, float, string, boolean.\n",
    "- Lists: Ordered, mutable collections.\n",
    "- Tuples: Ordered, immutable collections.\n",
    "- Dictionaries: Key-value pairs.\n",
    "- Loops: Repeat actions.\n",
    "- Conditionals: Make decisions.\n",
    "- Functions: Reusable code blocks.\n",
    "- Modules: Organized code libraries.\n",
    "- Exceptions: Handle errors.\n",
    "\n",
    "### 3. Explanation of Basic Python Concepts\n",
    "- **Variables**: Containers for storing data values. Example: `x = 5`\n",
    "- **Data Types**: Different kinds of data. Example: `int`, `float`, `str`, `bool`\n",
    "- **Lists**: Ordered, changeable collections. Example: `my_list = [1, 2, 3]`\n",
    "- **Tuples**: Ordered, unchangeable collections. Example: `my_tuple = (1, 2, 3)`\n",
    "- **Dictionaries**: Collections of key-value pairs. Example: `my_dict = {'key': 'value'}`\n",
    "- **Loops**: Used to repeat actions. Example: `for i in range(5): print(i)`\n",
    "- **Conditionals**: Used to perform different actions based on conditions. Example: `if x > 0: print(\"Positive\")`\n",
    "- **Functions**: Blocks of reusable code. Example: `def my_function(): pass`\n",
    "- **Modules**: Files containing Python code. Example: `import math`\n",
    "- **Exceptions**: Used to handle errors. Example: `try: pass except: pass`"
   ]
  },
  {
   "cell_type": "code",
   "execution_count": 1,
   "metadata": {},
   "outputs": [
    {
     "name": "stdout",
     "output_type": "stream",
     "text": [
      "naman\n",
      "naman\n"
     ]
    }
   ],
   "source": [
    "name = \"name\"\n",
    "name = \"naman\"\n",
    "\n",
    "print(name)\n",
    "print(name)"
   ]
  },
  {
   "cell_type": "markdown",
   "metadata": {},
   "source": [
    "INDENTATION \n",
    "\n",
    "\n",
    "#PYTHON USE INDENTATION TO DEFINE BLOCK OF CODE\n",
    "\n",
    "INDENTATION IS MANDATORY IN PYTHON\n",
    "\n",
    "INDENTATION IS USED TO DEFINE BLOCK OF CODE"
   ]
  },
  {
   "cell_type": "code",
   "execution_count": null,
   "metadata": {},
   "outputs": [
    {
     "name": "stdout",
     "output_type": "stream",
     "text": [
      "You are an adult\n"
     ]
    }
   ],
   "source": [
    "\n",
    "age = 20\n",
    "if age >= 18:#indentation is space before the print statement\n",
    "    print(\"You are an adult\")\n",
    "else:\n",
    "    print(\"You are a child\")\n"
   ]
  },
  {
   "cell_type": "markdown",
   "metadata": {},
   "source": [
    "```markdown\n",
    "## Basic Variable Concepts in Detail\n",
    "\n",
    "### What is a Variable?\n",
    "A variable is a named location used to store data in the memory. It acts as a container for data that can be changed during program execution.\n",
    "\n",
    "### Variable Naming Rules\n",
    "1. Variable names must start with a letter or an underscore (_).\n",
    "2. The name can contain letters, digits, and underscores.\n",
    "3. Variable names are case-sensitive (e.g., `age` and `Age` are different variables).\n",
    "4. Reserved words (keywords) cannot be used as variable names.\n",
    "\n",
    "### Assigning Values to Variables\n",
    "In Python, the assignment operator `=` is used to assign values to variables. The syntax is:\n",
    "```python\n",
    "variable_name = value\n",
    "```\n",
    "\n",
    "### Example Variables in This Notebook\n",
    "- **age**: An integer variable with a value of 20.\n",
    "    ```python\n",
    "    age = 20\n",
    "    ```\n",
    "- **name**: A string variable with a value of 'naman'.\n",
    "    ```python\n",
    "    name = \"naman\"\n",
    "    ```\n",
    "\n",
    "### Data Types of Variables\n",
    "Variables can store data of different types. Some common data types in Python include:\n",
    "- **int**: Integer numbers (e.g., `20`)\n",
    "- **float**: Floating-point numbers (e.g., `20.5`)\n",
    "- **str**: Strings (e.g., `\"naman\"`)\n",
    "- **bool**: Boolean values (e.g., `True` or `False`)\n",
    "\n",
    "### Changing Variable Values\n",
    "You can change the value of a variable by assigning a new value to it. For example:\n",
    "```python\n",
    "name = \"name\"\n",
    "name = \"naman\"\n",
    "```\n",
    "In this example, the variable `name` initially holds the value `\"name\"`, but it is later changed to `\"naman\"`.\n",
    "\n",
    "### Printing Variable Values\n",
    "You can print the value of a variable using the `print()` function:\n",
    "```python\n",
    "print(name)\n",
    "print(age)\n",
    "```\n",
    "\n",
    "### Conclusion\n",
    "Variables are fundamental to programming as they allow you to store and manipulate data. Understanding how to create, name, and use variables is essential for writing effective Python code.\n",
    "```"
   ]
  },
  {
   "cell_type": "code",
   "execution_count": 5,
   "metadata": {},
   "outputs": [
    {
     "name": "stdout",
     "output_type": "stream",
     "text": [
      "175 70 New York True\n"
     ]
    }
   ],
   "source": [
    "height = 175  # height in centimeters\n",
    "weight = 70   # weight in kilograms\n",
    "city = \"New York\"  # city name\n",
    "is_student = True  # boolean indicating if the person is a student\n",
    "\n",
    "print(height, weight, city,is_student)"
   ]
  },
  {
   "cell_type": "markdown",
   "metadata": {},
   "source": [
    "```markdown\n",
    "## Detailed Notes on Data Types in Python\n",
    "\n",
    "### Introduction\n",
    "In Python, data types are used to classify the type of data that a variable can hold. Understanding data types is crucial for writing efficient and error-free code. Here are the basic data types in Python:\n",
    "\n",
    "### 1. Integer (`int`)\n",
    "- **Description**: Represents whole numbers without a fractional part.\n",
    "- **Example**: `age = 20`\n",
    "- **Operations**: Addition, subtraction, multiplication, division, modulus, exponentiation, etc.\n",
    "- **Usage**: Used for counting, indexing, and any scenario where whole numbers are required.\n",
    "\n",
    "### 2. Floating-Point (`float`)\n",
    "- **Description**: Represents numbers with a fractional part.\n",
    "- **Example**: `weight = 70.5`\n",
    "- **Operations**: Similar to integers but includes operations with decimal points.\n",
    "- **Usage**: Used for measurements, calculations requiring precision, and scientific computations.\n",
    "\n",
    "### 3. String (`str`)\n",
    "- **Description**: Represents a sequence of characters.\n",
    "- **Example**: `city = \"New York\"`\n",
    "- **Operations**: Concatenation, slicing, indexing, formatting, etc.\n",
    "- **Usage**: Used for text manipulation, storing names, addresses, and any data that requires textual representation.\n",
    "\n",
    "### 4. Boolean (`bool`)\n",
    "- **Description**: Represents one of two values: `True` or `False`.\n",
    "- **Example**: `is_student = True`\n",
    "- **Operations**: Logical operations like AND, OR, NOT.\n",
    "- **Usage**: Used for conditional statements, flags, and any scenario requiring binary decisions.\n",
    "\n",
    "### 5. List (`list`)\n",
    "- **Description**: Ordered, mutable collection of items.\n",
    "- **Example**: `my_list = [1, 2, 3, \"apple\", \"banana\"]`\n",
    "- **Operations**: Indexing, slicing, appending, removing, etc.\n",
    "- **Usage**: Used for storing collections of related items, such as a list of numbers, strings, or mixed data types.\n",
    "\n",
    "### 6. Tuple (`tuple`)\n",
    "- **Description**: Ordered, immutable collection of items.\n",
    "- **Example**: `my_tuple = (1, 2, 3, \"apple\", \"banana\")`\n",
    "- **Operations**: Indexing, slicing (but not modifying).\n",
    "- **Usage**: Used for fixed collections of items, such as coordinates, or any data that should not change.\n",
    "\n",
    "### 7. Dictionary (`dict`)\n",
    "- **Description**: Unordered collection of key-value pairs.\n",
    "- **Example**: `my_dict = {\"name\": \"naman\", \"age\": 20}`\n",
    "- **Operations**: Accessing, adding, removing key-value pairs.\n",
    "- **Usage**: Used for mapping relationships, such as storing user information, configurations, etc.\n",
    "\n",
    "### 8. Set (`set`)\n",
    "- **Description**: Unordered collection of unique items.\n",
    "- **Example**: `my_set = {1, 2, 3, \"apple\", \"banana\"}`\n",
    "- **Operations**: Adding, removing items, set operations like union, intersection.\n",
    "- **Usage**: Used for storing unique items, eliminating duplicates, and performing set operations.\n",
    "\n",
    "### Conclusion\n",
    "Understanding these basic data types is essential for effective programming in Python. Each data type serves a specific purpose and choosing the right data type for your variables can lead to more efficient and readable code.\n",
    "```"
   ]
  },
  {
   "cell_type": "code",
   "execution_count": 6,
   "metadata": {},
   "outputs": [
    {
     "name": "stdout",
     "output_type": "stream",
     "text": [
      "Age: 20 Type: <class 'int'>\n",
      "City: New York Type: <class 'str'>\n",
      "Height: 175 Type: <class 'int'>\n",
      "Is Student: True Type: <class 'bool'>\n",
      "Name: naman Type: <class 'str'>\n",
      "Weight: 70 Type: <class 'int'>\n"
     ]
    }
   ],
   "source": [
    "# Variables and their values\n",
    "age = 20  # integer\n",
    "city = \"New York\"  # string\n",
    "height = 175  # integer\n",
    "is_student = True  # boolean\n",
    "name = \"naman\"  # string\n",
    "weight = 70  # integer\n",
    "\n",
    "# Print the variables and their data types\n",
    "print(\"Age:\", age, \"Type:\", type(age))\n",
    "print(\"City:\", city, \"Type:\", type(city))\n",
    "print(\"Height:\", height, \"Type:\", type(height))\n",
    "print(\"Is Student:\", is_student, \"Type:\", type(is_student))\n",
    "print(\"Name:\", name, \"Type:\", type(name))\n",
    "print(\"Weight:\", weight, \"Type:\", type(weight))\n"
   ]
  }
 ],
 "metadata": {
  "kernelspec": {
   "display_name": "Python 3",
   "language": "python",
   "name": "python3"
  },
  "language_info": {
   "codemirror_mode": {
    "name": "ipython",
    "version": 3
   },
   "file_extension": ".py",
   "mimetype": "text/x-python",
   "name": "python",
   "nbconvert_exporter": "python",
   "pygments_lexer": "ipython3",
   "version": "3.12.0"
  }
 },
 "nbformat": 4,
 "nbformat_minor": 2
}
