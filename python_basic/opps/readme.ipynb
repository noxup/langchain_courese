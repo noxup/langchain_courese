{
 "cells": [
  {
   "cell_type": "markdown",
   "metadata": {},
   "source": [
    "# Object-Oriented Programming (OOP) with Python\n",
    "\n",
    "## Introduction\n",
    "Object-Oriented Programming (OOP) is a programming paradigm that uses objects and classes to structure software programs. It allows for the creation of reusable and modular code.\n",
    "\n",
    "## Key Concepts\n",
    "\n",
    "### 1. Classes and Objects\n",
    "- **Class**: A blueprint for creating objects. It defines a set of attributes and methods that the created objects will have.\n",
    "- **Object**: An instance of a class. It is created using the class blueprint and can have its own unique values for the attributes defined in the class.\n",
    "\n",
    "### 2. Attributes and Methods\n",
    "- **Attributes**: Variables that belong to a class or an object. They are used to store data.\n",
    "- **Methods**: Functions that belong to a class. They define the behaviors of the objects created from the class.\n",
    "\n",
    "### 3. Encapsulation\n",
    "- Encapsulation is the concept of bundling the data (attributes) and methods that operate on the data into a single unit, or class. It restricts direct access to some of the object's components, which is a means of preventing accidental interference and misuse of the data.\n",
    "\n",
    "### 4. Inheritance\n",
    "- Inheritance is a mechanism where a new class inherits the attributes and methods of an existing class. The new class is called the derived (or child) class, and the existing class is called the base (or parent) class. This allows for code reusability and the creation of a hierarchical relationship between classes.\n",
    "\n",
    "### 5. Polymorphism\n",
    "- Polymorphism allows for the use of a single interface to represent different data types. It enables objects of different classes to be treated as objects of a common superclass. The most common use of polymorphism is when a parent class reference is used to refer to a child class object.\n",
    "\n",
    "### 6. Abstraction\n",
    "- Abstraction is the concept of hiding the complex implementation details and showing only the essential features of the object. It helps in reducing programming complexity and effort.\n",
    "\n",
    "## Example Code\n",
    "\n",
    "### Defining a Class and Creating an Object\n"
   ]
  },
  {
   "cell_type": "markdown",
   "metadata": {},
   "source": [
    "```markdown\n",
    "### Example Code\n",
    "\n",
    "#### Defining a Class and Creating an Object\n",
    "\n",
    "```python\n",
    "# Define a class named 'Person'\n",
    "class Person:\n",
    "    # Constructor to initialize the attributes\n",
    "    def __init__(self, name, age, gender):\n",
    "        self.name = name\n",
    "        self.age = age\n",
    "        self.gender = gender\n",
    "\n",
    "    # Method to display the details of the person\n",
    "    def display_details(self):\n",
    "        print(f\"Name: {self.name}, Age: {self.age}, Gender: {self.gender}\")\n",
    "\n",
    "# Create an object of the class 'Person'\n",
    "person1 = Person(\"Alice\", 25, \"F\")\n",
    "\n",
    "# Call the method to display the details of the person\n",
    "person1.display_details()\n",
    "```\n",
    "```"
   ]
  },
  {
   "cell_type": "markdown",
   "metadata": {},
   "source": []
  }
 ],
 "metadata": {
  "kernelspec": {
   "display_name": "Python 3",
   "language": "python",
   "name": "python3"
  },
  "language_info": {
   "codemirror_mode": {
    "name": "ipython",
    "version": 3
   },
   "file_extension": ".py",
   "mimetype": "text/x-python",
   "name": "python",
   "nbconvert_exporter": "python",
   "pygments_lexer": "ipython3",
   "version": "3.12.0"
  }
 },
 "nbformat": 4,
 "nbformat_minor": 2
}
