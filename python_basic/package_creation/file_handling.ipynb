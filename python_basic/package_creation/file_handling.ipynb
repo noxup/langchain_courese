{
 "cells": [
  {
   "cell_type": "markdown",
   "metadata": {},
   "source": [
    "```markdown\n",
    "# File Handling in Python\n",
    "\n",
    "File handling is an essential part of any programming language. Python provides several functions and methods to handle files. Here are the key concepts and operations for file handling in Python:\n",
    "\n",
    "## Opening a File\n",
    "\n",
    "To open a file, use the `open()` function. It requires at least one argument: the file name. You can also specify the mode in which the file should be opened.\n",
    "\n",
    "```python\n",
    "file = open('example.txt', 'r')  # Open file in read mode\n",
    "```\n",
    "\n",
    "### File Modes\n",
    "\n",
    "- `'r'` : Read (default mode). Opens the file for reading.\n",
    "- `'w'` : Write. Opens the file for writing (creates a new file or truncates an existing file).\n",
    "- `'a'` : Append. Opens the file for appending (creates a new file if it doesn't exist).\n",
    "- `'b'` : Binary mode. Used with other modes to open the file in binary mode (e.g., `'rb'`, `'wb'`).\n",
    "\n",
    "## Reading from a File\n",
    "\n",
    "You can read the contents of a file using various methods:\n",
    "\n",
    "- `read()`: Reads the entire file.\n",
    "- `readline()`: Reads one line at a time.\n",
    "- `readlines()`: Reads all lines into a list.\n",
    "\n",
    "```python\n",
    "file = open('example.txt', 'r')\n",
    "content = file.read()\n",
    "print(content)\n",
    "file.close()\n",
    "```\n",
    "\n",
    "## Writing to a File\n",
    "\n",
    "To write to a file, use the `write()` or `writelines()` methods.\n",
    "\n",
    "```python\n",
    "file = open('example.txt', 'w')\n",
    "file.write('Hello, World!')\n",
    "file.close()\n",
    "```\n",
    "\n",
    "## Appending to a File\n",
    "\n",
    "To append content to an existing file, open it in append mode.\n",
    "\n",
    "```python\n",
    "file = open('example.txt', 'a')\n",
    "file.write('\\nAppended text.')\n",
    "file.close()\n",
    "```\n",
    "\n",
    "## Closing a File\n",
    "\n",
    "Always close the file after performing operations to free up system resources.\n",
    "\n",
    "```python\n",
    "file.close()\n",
    "```\n",
    "\n",
    "## Using `with` Statement\n",
    "\n",
    "Using the `with` statement is a better practice as it ensures the file is properly closed after its suite finishes.\n",
    "\n",
    "```python\n",
    "with open('example.txt', 'r') as file:\n",
    "    content = file.read()\n",
    "    print(content)\n",
    "```\n",
    "\n",
    "## File Handling Exceptions\n",
    "\n",
    "Handle exceptions using `try` and `except` blocks to manage errors gracefully.\n",
    "\n",
    "```python\n",
    "try:\n",
    "    file = open('example.txt', 'r')\n",
    "    content = file.read()\n",
    "    print(content)\n",
    "except FileNotFoundError:\n",
    "    print('File not found.')\n",
    "finally:\n",
    "    file.close()\n",
    "```\n",
    "\n",
    "## Summary\n",
    "\n",
    "- Use `open()` to open a file.\n",
    "- Use `read()`, `readline()`, or `readlines()` to read from a file.\n",
    "- Use `write()` or `writelines()` to write to a file.\n",
    "- Always close the file using `close()` or `with` statement.\n",
    "- Handle exceptions to manage errors.\n",
    "\n",
    "File handling is a fundamental skill in Python, enabling you to read from and write to files efficiently.\n",
    "```"
   ]
  },
  {
   "cell_type": "code",
   "execution_count": 1,
   "metadata": {},
   "outputs": [
    {
     "name": "stdout",
     "output_type": "stream",
     "text": [
      "Line 1: This is the first line.\n",
      "Line 2: This is the second line.\n",
      "Line 3: This is the third line.\n",
      "Line 4: This is the fourth line.\n",
      "Line 5: This is the fifth line.\n"
     ]
    }
   ],
   "source": [
    "\n",
    "with open(\"ex.txt\", 'r') as file:\n",
    "    content = file.read()\n",
    "    print(content)"
   ]
  },
  {
   "cell_type": "code",
   "execution_count": 6,
   "metadata": {},
   "outputs": [
    {
     "name": "stdout",
     "output_type": "stream",
     "text": [
      "the new line is hereanother line"
     ]
    }
   ],
   "source": [
    "with open(\"ex.txt\", 'r') as file:\n",
    "    for line in file:\n",
    "        print(line, end='')"
   ]
  },
  {
   "cell_type": "code",
   "execution_count": null,
   "metadata": {},
   "outputs": [],
   "source": []
  },
  {
   "cell_type": "code",
   "execution_count": null,
   "metadata": {},
   "outputs": [],
   "source": []
  }
 ],
 "metadata": {
  "kernelspec": {
   "display_name": "Python 3",
   "language": "python",
   "name": "python3"
  },
  "language_info": {
   "codemirror_mode": {
    "name": "ipython",
    "version": 3
   },
   "file_extension": ".py",
   "mimetype": "text/x-python",
   "name": "python",
   "nbconvert_exporter": "python",
   "pygments_lexer": "ipython3",
   "version": "3.12.0"
  }
 },
 "nbformat": 4,
 "nbformat_minor": 2
}
