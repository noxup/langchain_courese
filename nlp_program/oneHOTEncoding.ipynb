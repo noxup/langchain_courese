{
 "cells": [
  {
   "cell_type": "markdown",
   "id": "a5aab571-e126-4256-8547-c445bf314800",
   "metadata": {},
   "source": [
    "#### One-Hot Encoding in NLP\n",
    "One-hot encoding is a method of converting categorical text data (words) into numerical binary vectors.\n",
    "\n",
    "Each word in the vocabulary is assigned a unique index, and it is represented as a vector where only its assigned index is `1`, and all other positions are `0`.\n",
    "\n",
    "---\n",
    "\n",
    "#### **Example: One-Hot Encoding Words in a Sentence**\n",
    "```python\n",
    "from sklearn.preprocessing import LabelEncoder, OneHotEncoder\n",
    "import numpy as np\n",
    "\n",
    "# Define vocabulary\n",
    "words = [\"nlp\", \"love\", \"i\", \"is\", \"amazing\", \"and\"]\n",
    "\n",
    "# Convert words to integer labels\n",
    "label_encoder = LabelEncoder()\n",
    "integer_encoded = label_encoder.fit_transform(words)\n",
    "\n",
    "# Reshape for One-Hot Encoding\n",
    "integer_encoded = integer_encoded.reshape(-1, 1)\n",
    "\n",
    "# Apply One-Hot Encoding\n",
    "onehot_encoder = OneHotEncoder(sparse_output=False)\n",
    "onehot_encoded = onehot_encoder.fit_transform(integer_encoded)\n",
    "\n",
    "# Display Results\n",
    "print(\"Vocabulary:\", words)\n",
    "print(\"Integer Encoded:\", integer_encoded.flatten())\n",
    "print(\"One-Hot Encoded:\\n\", onehot_encoded)\n"
   ]
  },
  {
   "cell_type": "markdown",
   "id": "f2888eca-cfbe-48b5-a64d-0fff44acba57",
   "metadata": {},
   "source": [
    "Vocabulary: ['nlp', 'love', 'i', 'is', 'amazing', 'and']\n",
    "\n",
    "Integer Encoded: [4 3 2 5 0 1]\n",
    "\n",
    "One-Hot Encoded:\n",
    "\n",
    " [\n",
    " [0. 0. 0. 0. 1. 0.]\n",
    " \n",
    "  [0. 0. 0. 1. 0. 0.]\n",
    "  \n",
    "  [0. 0. 1. 0. 0. 0.]\n",
    "  \n",
    "  [0. 0. 0. 0. 0. 1.]\n",
    "  \n",
    "  [1. 0. 0. 0. 0. 0.]\n",
    "  \n",
    "  [0. 1. 0. 0. 0. 0.]\n",
    "  ]\n"
   ]
  },
  {
   "cell_type": "code",
   "execution_count": null,
   "id": "9185c463-e737-4769-9366-5138035d2d23",
   "metadata": {},
   "outputs": [],
   "source": [
    "import nltk\n"
   ]
  },
  {
   "cell_type": "code",
   "execution_count": 12,
   "id": "4bfaef33-591d-444f-b158-bde06040155d",
   "metadata": {},
   "outputs": [],
   "source": [
    "from nltk.tokenize import word_tokenize\n",
    "\n"
   ]
  },
  {
   "cell_type": "code",
   "execution_count": 13,
   "id": "4a5e47cb-5d57-437f-bf15-72a75d888499",
   "metadata": {},
   "outputs": [],
   "source": [
    "from sklearn.preprocessing import OneHotEncoder\n"
   ]
  },
  {
   "cell_type": "code",
   "execution_count": 14,
   "id": "df10b60a-574d-4a72-9b8e-ef370df6adf2",
   "metadata": {},
   "outputs": [],
   "source": [
    "import numpy as np"
   ]
  },
  {
   "cell_type": "code",
   "execution_count": 15,
   "id": "bf7c9273-fb0b-4a4f-a3e1-8c9c1cfc8b0d",
   "metadata": {},
   "outputs": [
    {
     "name": "stdout",
     "output_type": "stream",
     "text": [
      "Tokens: ['i', 'love', 'nlp', 'and', 'nlp', 'is', 'amazing']\n"
     ]
    },
    {
     "name": "stderr",
     "output_type": "stream",
     "text": [
      "[nltk_data] Downloading package punkt to\n",
      "[nltk_data]     C:\\Users\\naman\\AppData\\Roaming\\nltk_data...\n",
      "[nltk_data]   Package punkt is already up-to-date!\n"
     ]
    }
   ],
   "source": [
    "nltk.download('punkt')\n",
    "\n",
    "text = \"I love NLP and NLP is amazing\"\n",
    "tokens = word_tokenize(text.lower())  # Tokenizing the text\n",
    "\n",
    "print(\"Tokens:\", tokens)\n"
   ]
  },
  {
   "cell_type": "code",
   "execution_count": 16,
   "id": "c4f79a1e-9901-44a3-91be-91b668d3b5de",
   "metadata": {},
   "outputs": [
    {
     "name": "stdout",
     "output_type": "stream",
     "text": [
      "Vocabulary: ['i', 'love', 'nlp', 'and', 'is', 'amazing']\n"
     ]
    }
   ],
   "source": [
    "vocab = list(dict.fromkeys(tokens))  # Unique words\n",
    "print(\"Vocabulary:\", vocab)\n"
   ]
  },
  {
   "cell_type": "code",
   "execution_count": 27,
   "id": "d6bc8f5e-6ddc-4de2-9333-da195499d75f",
   "metadata": {},
   "outputs": [
    {
     "name": "stdout",
     "output_type": "stream",
     "text": [
      "Requirement already satisfied: scikit-learn in c:\\users\\naman\\anaconda3\\lib\\site-packages (1.5.1)\n",
      "Requirement already satisfied: numpy>=1.19.5 in c:\\users\\naman\\anaconda3\\lib\\site-packages (from scikit-learn) (1.26.4)\n",
      "Requirement already satisfied: scipy>=1.6.0 in c:\\users\\naman\\anaconda3\\lib\\site-packages (from scikit-learn) (1.13.1)\n",
      "Requirement already satisfied: joblib>=1.2.0 in c:\\users\\naman\\anaconda3\\lib\\site-packages (from scikit-learn) (1.4.2)\n",
      "Requirement already satisfied: threadpoolctl>=3.1.0 in c:\\users\\naman\\anaconda3\\lib\\site-packages (from scikit-learn) (3.5.0)\n"
     ]
    }
   ],
   "source": [
    "!pip install scikit-learn\n"
   ]
  },
  {
   "cell_type": "code",
   "execution_count": 28,
   "id": "16f56d89-e185-45fc-82b5-7fe41395311c",
   "metadata": {},
   "outputs": [],
   "source": [
    "from sklearn.preprocessing import LabelEncoder, OneHotEncoder\n",
    "\n",
    "\n",
    "\n",
    "\n"
   ]
  },
  {
   "cell_type": "code",
   "execution_count": 30,
   "id": "cf7e8bc1-667e-4c63-9f5d-721feb3d6dfa",
   "metadata": {},
   "outputs": [
    {
     "name": "stdout",
     "output_type": "stream",
     "text": [
      "\n",
      "One-Hot Encoding:\n",
      "i: [0. 0. 1. 0. 0. 0.]\n",
      "love: [0. 0. 0. 0. 1. 0.]\n",
      "nlp: [0. 0. 0. 0. 0. 1.]\n",
      "and: [0. 1. 0. 0. 0. 0.]\n",
      "is: [0. 0. 0. 1. 0. 0.]\n",
      "amazing: [1. 0. 0. 0. 0. 0.]\n"
     ]
    }
   ],
   "source": [
    "onehot_encoder = OneHotEncoder(sparse_output=False)\n",
    "\n",
    "word_indexes = np.array(vocab).reshape(-1, 1)  # Reshape for encoding\n",
    "onehot_vectors = onehot_encoder.fit_transform(word_indexes)\n",
    "\n",
    "# Creating a dictionary for word-to-one-hot mapping\n",
    "one_hot_dict = {word: onehot_vectors[i] for i, word in enumerate(vocab)}\n",
    "\n",
    "print(\"\\nOne-Hot Encoding:\")\n",
    "for word, vec in one_hot_dict.items():\n",
    "    print(f\"{word}: {vec}\")\n"
   ]
  },
  {
   "cell_type": "code",
   "execution_count": null,
   "id": "f516d4f7-4b88-4902-a608-dbef737bf981",
   "metadata": {},
   "outputs": [],
   "source": []
  },
  {
   "cell_type": "markdown",
   "id": "731dae48-7f0b-43a1-b895-8c4d2ec76248",
   "metadata": {},
   "source": [
    "Advantages of One-Hot Encoding\n",
    "✅ Simple and easy to implement\n",
    "✅ Works well with small vocabularies\n",
    "✅ Good for rule-based NLP models\n",
    "\n",
    "Limitations of One-Hot Encoding\n",
    "❌ Creates high-dimensional sparse vectors (for large vocabularies)\n",
    "❌ Does not capture word relationships or context\n",
    "\n",
    "When to Use One-Hot Encoding?\n",
    "Text classification with a small vocabulary\n",
    "Rule-based NLP tasks\n",
    "Baseline models before moving to word embeddings (Word2Vec, BERT, etc.)"
   ]
  },
  {
   "cell_type": "code",
   "execution_count": null,
   "id": "e34ef032-1fee-4849-b2ec-22e981629586",
   "metadata": {},
   "outputs": [],
   "source": []
  }
 ],
 "metadata": {
  "kernelspec": {
   "display_name": "Python 3 (ipykernel)",
   "language": "python",
   "name": "python3"
  },
  "language_info": {
   "codemirror_mode": {
    "name": "ipython",
    "version": 3
   },
   "file_extension": ".py",
   "mimetype": "text/x-python",
   "name": "python",
   "nbconvert_exporter": "python",
   "pygments_lexer": "ipython3",
   "version": "3.12.7"
  }
 },
 "nbformat": 4,
 "nbformat_minor": 5
}
