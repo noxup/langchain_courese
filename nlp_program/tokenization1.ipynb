{
 "cells": [
  {
   "cell_type": "code",
   "execution_count": 62,
   "id": "f30b9c9b-1d60-4c53-baeb-1c497d6bb7a5",
   "metadata": {},
   "outputs": [
    {
     "name": "stdout",
     "output_type": "stream",
     "text": [
      "Requirement already satisfied: nltk in c:\\users\\naman\\anaconda3\\lib\\site-packages (3.9.1)\n",
      "Requirement already satisfied: click in c:\\users\\naman\\anaconda3\\lib\\site-packages (from nltk) (8.1.7)\n",
      "Requirement already satisfied: joblib in c:\\users\\naman\\anaconda3\\lib\\site-packages (from nltk) (1.4.2)\n",
      "Requirement already satisfied: regex>=2021.8.3 in c:\\users\\naman\\anaconda3\\lib\\site-packages (from nltk) (2024.9.11)\n",
      "Requirement already satisfied: tqdm in c:\\users\\naman\\anaconda3\\lib\\site-packages (from nltk) (4.66.5)\n",
      "Requirement already satisfied: colorama in c:\\users\\naman\\appdata\\roaming\\python\\python312\\site-packages (from click->nltk) (0.4.6)\n"
     ]
    }
   ],
   "source": [
    "!pip install nltk\n"
   ]
  },
  {
   "cell_type": "code",
   "execution_count": 63,
   "id": "6319a41b-e1eb-4daa-905d-b2e2d479d6e6",
   "metadata": {},
   "outputs": [
    {
     "name": "stderr",
     "output_type": "stream",
     "text": [
      "[nltk_data] Downloading package punkt_tab to\n",
      "[nltk_data]     C:\\Users\\naman\\AppData\\Roaming\\nltk_data...\n",
      "[nltk_data]   Package punkt_tab is already up-to-date!\n"
     ]
    },
    {
     "data": {
      "text/plain": [
       "True"
      ]
     },
     "execution_count": 63,
     "metadata": {},
     "output_type": "execute_result"
    }
   ],
   "source": [
    "import nltk\n",
    "nltk.download('punkt_tab')"
   ]
  },
  {
   "cell_type": "code",
   "execution_count": 64,
   "id": "b671c1a3-5593-428d-8f83-d6bd736b7e16",
   "metadata": {},
   "outputs": [],
   "source": [
    "corpus = \"\"\"Natural language processing (NLP) is a field of computer science, artificial intelligence and computational linguistics concerned with the interactions between computers and human (natural) languages, and, in particular, concerned with programming computers to fruitfully process large natural language corpora. Challenges in natural language processing frequently involve natural language understanding, natural language generation (frequently from formal, machine-readable logical forms), connecting language and machine perception, managing human-computer dialog systems, or some combination thereof.\"\"\""
   ]
  },
  {
   "cell_type": "code",
   "execution_count": 65,
   "id": "549a956a-f83e-4361-9b67-a04b8eeddd96",
   "metadata": {},
   "outputs": [
    {
     "name": "stdout",
     "output_type": "stream",
     "text": [
      "Natural language processing (NLP) is a field of computer science, artificial intelligence and computational linguistics concerned with the interactions between computers and human (natural) languages, and, in particular, concerned with programming computers to fruitfully process large natural language corpora. Challenges in natural language processing frequently involve natural language understanding, natural language generation (frequently from formal, machine-readable logical forms), connecting language and machine perception, managing human-computer dialog systems, or some combination thereof.\n"
     ]
    }
   ],
   "source": [
    "print(corpus)"
   ]
  },
  {
   "cell_type": "code",
   "execution_count": 66,
   "id": "630500a0-79a0-49fc-8b0b-df3685e37a31",
   "metadata": {},
   "outputs": [],
   "source": [
    "#tokenization\n",
    "## sentence --> paragraphs\n",
    "from nltk.tokenize import sent_tokenize"
   ]
  },
  {
   "cell_type": "code",
   "execution_count": 67,
   "id": "01536b09-f589-4c66-9da3-3b5b235b0fe1",
   "metadata": {},
   "outputs": [],
   "source": [
    "#storing it in var = document \n",
    "document = sent_tokenize(corpus)"
   ]
  },
  {
   "cell_type": "code",
   "execution_count": 68,
   "id": "4a629a7a-eb10-42e0-906d-385a09ac6ce8",
   "metadata": {},
   "outputs": [
    {
     "data": {
      "text/plain": [
       "['Natural language processing (NLP) is a field of computer science, artificial intelligence and computational linguistics concerned with the interactions between computers and human (natural) languages, and, in particular, concerned with programming computers to fruitfully process large natural language corpora.',\n",
       " 'Challenges in natural language processing frequently involve natural language understanding, natural language generation (frequently from formal, machine-readable logical forms), connecting language and machine perception, managing human-computer dialog systems, or some combination thereof.']"
      ]
     },
     "execution_count": 68,
     "metadata": {},
     "output_type": "execute_result"
    }
   ],
   "source": [
    "#calling it to see the output\n",
    "document\n"
   ]
  },
  {
   "cell_type": "code",
   "execution_count": 69,
   "id": "2be04f33-a466-4a71-a4fc-1fbc02f752b0",
   "metadata": {},
   "outputs": [
    {
     "data": {
      "text/plain": [
       "list"
      ]
     },
     "execution_count": 69,
     "metadata": {},
     "output_type": "execute_result"
    }
   ],
   "source": [
    "#type of the document which is list becouse it convert it in list\n",
    "type(document)"
   ]
  },
  {
   "cell_type": "code",
   "execution_count": 70,
   "id": "2b6042cb-15d0-45df-a385-9168fc0839ee",
   "metadata": {},
   "outputs": [
    {
     "name": "stdout",
     "output_type": "stream",
     "text": [
      "Natural language processing (NLP) is a field of computer science, artificial intelligence and computational linguistics concerned with the interactions between computers and human (natural) languages, and, in particular, concerned with programming computers to fruitfully process large natural language corpora.\n",
      "Challenges in natural language processing frequently involve natural language understanding, natural language generation (frequently from formal, machine-readable logical forms), connecting language and machine perception, managing human-computer dialog systems, or some combination thereof.\n"
     ]
    }
   ],
   "source": [
    "#print(the sentence in the paragraph)\n",
    "for sentence in document:\n",
    "    print(sentence)"
   ]
  },
  {
   "cell_type": "code",
   "execution_count": 71,
   "id": "7d53dabe-e685-4812-89f3-188622fecbfb",
   "metadata": {},
   "outputs": [],
   "source": [
    "## tokenization \n",
    "## paragrapg --> word\n",
    "## sentence ---> words\n",
    "from nltk.tokenize import word_tokenize\n",
    "\n"
   ]
  },
  {
   "cell_type": "code",
   "execution_count": 72,
   "id": "d4dff250-f7e4-41d3-9685-ff8dd42ca185",
   "metadata": {},
   "outputs": [
    {
     "name": "stdout",
     "output_type": "stream",
     "text": [
      "['Natural', 'language', 'processing', '(', 'NLP', ')', 'is', 'a', 'field', 'of', 'computer', 'science', ',', 'artificial', 'intelligence', 'and', 'computational', 'linguistics', 'concerned', 'with', 'the', 'interactions', 'between', 'computers', 'and', 'human', '(', 'natural', ')', 'languages', ',', 'and', ',', 'in', 'particular', ',', 'concerned', 'with', 'programming', 'computers', 'to', 'fruitfully', 'process', 'large', 'natural', 'language', 'corpora', '.']\n",
      "['Challenges', 'in', 'natural', 'language', 'processing', 'frequently', 'involve', 'natural', 'language', 'understanding', ',', 'natural', 'language', 'generation', '(', 'frequently', 'from', 'formal', ',', 'machine-readable', 'logical', 'forms', ')', ',', 'connecting', 'language', 'and', 'machine', 'perception', ',', 'managing', 'human-computer', 'dialog', 'systems', ',', 'or', 'some', 'combination', 'thereof', '.']\n"
     ]
    }
   ],
   "source": [
    "\n",
    "for sentence in document:\n",
    "    print(word_tokenize(sentence))\n",
    "\n"
   ]
  },
  {
   "cell_type": "code",
   "execution_count": 73,
   "id": "0ef8b8cc-f3e1-4ce5-8ba2-5ac94fa828a2",
   "metadata": {},
   "outputs": [
    {
     "name": "stdout",
     "output_type": "stream",
     "text": [
      "<class 'function'>\n"
     ]
    }
   ],
   "source": [
    "print(type(word_tokenize))\n"
   ]
  },
  {
   "cell_type": "code",
   "execution_count": 74,
   "id": "3c6d8593-c6e3-4f49-969e-b1073fb113da",
   "metadata": {},
   "outputs": [],
   "source": [
    "## use to token punctuation make\n",
    "\n",
    "from nltk.tokenize import wordpunct_tokenize\n"
   ]
  },
  {
   "cell_type": "code",
   "execution_count": 75,
   "id": "0f384569-e74b-462f-a17a-e0d11588d6d8",
   "metadata": {},
   "outputs": [
    {
     "data": {
      "text/plain": [
       "['Natural',\n",
       " 'language',\n",
       " 'processing',\n",
       " '(',\n",
       " 'NLP',\n",
       " ')',\n",
       " 'is',\n",
       " 'a',\n",
       " 'field',\n",
       " 'of',\n",
       " 'computer',\n",
       " 'science',\n",
       " ',',\n",
       " 'artificial',\n",
       " 'intelligence',\n",
       " 'and',\n",
       " 'computational',\n",
       " 'linguistics',\n",
       " 'concerned',\n",
       " 'with',\n",
       " 'the',\n",
       " 'interactions',\n",
       " 'between',\n",
       " 'computers',\n",
       " 'and',\n",
       " 'human',\n",
       " '(',\n",
       " 'natural',\n",
       " ')',\n",
       " 'languages',\n",
       " ',',\n",
       " 'and',\n",
       " ',',\n",
       " 'in',\n",
       " 'particular',\n",
       " ',',\n",
       " 'concerned',\n",
       " 'with',\n",
       " 'programming',\n",
       " 'computers',\n",
       " 'to',\n",
       " 'fruitfully',\n",
       " 'process',\n",
       " 'large',\n",
       " 'natural',\n",
       " 'language',\n",
       " 'corpora',\n",
       " '.',\n",
       " 'Challenges',\n",
       " 'in',\n",
       " 'natural',\n",
       " 'language',\n",
       " 'processing',\n",
       " 'frequently',\n",
       " 'involve',\n",
       " 'natural',\n",
       " 'language',\n",
       " 'understanding',\n",
       " ',',\n",
       " 'natural',\n",
       " 'language',\n",
       " 'generation',\n",
       " '(',\n",
       " 'frequently',\n",
       " 'from',\n",
       " 'formal',\n",
       " ',',\n",
       " 'machine',\n",
       " '-',\n",
       " 'readable',\n",
       " 'logical',\n",
       " 'forms',\n",
       " '),',\n",
       " 'connecting',\n",
       " 'language',\n",
       " 'and',\n",
       " 'machine',\n",
       " 'perception',\n",
       " ',',\n",
       " 'managing',\n",
       " 'human',\n",
       " '-',\n",
       " 'computer',\n",
       " 'dialog',\n",
       " 'systems',\n",
       " ',',\n",
       " 'or',\n",
       " 'some',\n",
       " 'combination',\n",
       " 'thereof',\n",
       " '.']"
      ]
     },
     "execution_count": 75,
     "metadata": {},
     "output_type": "execute_result"
    }
   ],
   "source": [
    "wordpunct_tokenize(corpus)"
   ]
  },
  {
   "cell_type": "code",
   "execution_count": 76,
   "id": "86f3a543-2c12-4e86-9195-137a535322ba",
   "metadata": {},
   "outputs": [],
   "source": [
    "from nltk.tokenize import TreebankWordTokenizer\n"
   ]
  },
  {
   "cell_type": "code",
   "execution_count": 77,
   "id": "a70333b6-f612-4cf9-a471-1776dd61793e",
   "metadata": {},
   "outputs": [],
   "source": [
    "tokenizer = TreebankWordTokenizer()"
   ]
  },
  {
   "cell_type": "code",
   "execution_count": 78,
   "id": "9184adb7-0919-464d-8b48-c7b5b57fc762",
   "metadata": {},
   "outputs": [
    {
     "data": {
      "text/plain": [
       "<bound method TreebankWordTokenizer.tokenize of <nltk.tokenize.treebank.TreebankWordTokenizer object at 0x000001DDF9F16FC0>>"
      ]
     },
     "execution_count": 78,
     "metadata": {},
     "output_type": "execute_result"
    }
   ],
   "source": [
    "tokenizer.tokenize"
   ]
  },
  {
   "cell_type": "code",
   "execution_count": 79,
   "id": "c34c38ee-8019-45bc-bd6e-afe2bc6cdd99",
   "metadata": {},
   "outputs": [
    {
     "data": {
      "text/plain": [
       "['Natural',\n",
       " 'language',\n",
       " 'processing',\n",
       " '(',\n",
       " 'NLP',\n",
       " ')',\n",
       " 'is',\n",
       " 'a',\n",
       " 'field',\n",
       " 'of',\n",
       " 'computer',\n",
       " 'science',\n",
       " ',',\n",
       " 'artificial',\n",
       " 'intelligence',\n",
       " 'and',\n",
       " 'computational',\n",
       " 'linguistics',\n",
       " 'concerned',\n",
       " 'with',\n",
       " 'the',\n",
       " 'interactions',\n",
       " 'between',\n",
       " 'computers',\n",
       " 'and',\n",
       " 'human',\n",
       " '(',\n",
       " 'natural',\n",
       " ')',\n",
       " 'languages',\n",
       " ',',\n",
       " 'and',\n",
       " ',',\n",
       " 'in',\n",
       " 'particular',\n",
       " ',',\n",
       " 'concerned',\n",
       " 'with',\n",
       " 'programming',\n",
       " 'computers',\n",
       " 'to',\n",
       " 'fruitfully',\n",
       " 'process',\n",
       " 'large',\n",
       " 'natural',\n",
       " 'language',\n",
       " 'corpora.',\n",
       " 'Challenges',\n",
       " 'in',\n",
       " 'natural',\n",
       " 'language',\n",
       " 'processing',\n",
       " 'frequently',\n",
       " 'involve',\n",
       " 'natural',\n",
       " 'language',\n",
       " 'understanding',\n",
       " ',',\n",
       " 'natural',\n",
       " 'language',\n",
       " 'generation',\n",
       " '(',\n",
       " 'frequently',\n",
       " 'from',\n",
       " 'formal',\n",
       " ',',\n",
       " 'machine-readable',\n",
       " 'logical',\n",
       " 'forms',\n",
       " ')',\n",
       " ',',\n",
       " 'connecting',\n",
       " 'language',\n",
       " 'and',\n",
       " 'machine',\n",
       " 'perception',\n",
       " ',',\n",
       " 'managing',\n",
       " 'human-computer',\n",
       " 'dialog',\n",
       " 'systems',\n",
       " ',',\n",
       " 'or',\n",
       " 'some',\n",
       " 'combination',\n",
       " 'thereof',\n",
       " '.']"
      ]
     },
     "execution_count": 79,
     "metadata": {},
     "output_type": "execute_result"
    }
   ],
   "source": [
    "tokenizer.tokenize(corpus)"
   ]
  },
  {
   "cell_type": "code",
   "execution_count": null,
   "id": "ead2e7df-23a3-493e-aafa-94d7dde97b12",
   "metadata": {},
   "outputs": [],
   "source": []
  }
 ],
 "metadata": {
  "kernelspec": {
   "display_name": "Python 3 (ipykernel)",
   "language": "python",
   "name": "python3"
  },
  "language_info": {
   "codemirror_mode": {
    "name": "ipython",
    "version": 3
   },
   "file_extension": ".py",
   "mimetype": "text/x-python",
   "name": "python",
   "nbconvert_exporter": "python",
   "pygments_lexer": "ipython3",
   "version": "3.12.7"
  }
 },
 "nbformat": 4,
 "nbformat_minor": 5
}
