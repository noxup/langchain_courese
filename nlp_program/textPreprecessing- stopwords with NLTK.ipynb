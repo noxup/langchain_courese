{
 "cells": [
  {
   "cell_type": "code",
   "execution_count": 63,
   "id": "16d63270-8821-45fc-bd65-cb431b698cbb",
   "metadata": {},
   "outputs": [],
   "source": [
    "#### Dr. A.P.J. Abdul Kalam’s speeches:\n",
    "\n",
    "\n",
    "paragraph = \"Dreams are not what you see when you sleep; dreams are what do not let you sleep. Young minds must have a clear vision for the future. Knowledge is the foundation of growth, but it must be combined with perseverance and hard work. India has a great history of innovation and excellence. From ancient mathematics to modern space research, our nation has shown the world the power of determination. Every citizen has the potential to contribute to the development of the country. Education is not just about learning facts but about applying knowledge to solve real-world problems. Teachers play a crucial role in shaping young minds, and students must have a thirst for learning. Challenges will come, but with courage and faith, nothing is impossible. Science and technology are the backbones of progress, and innovation must be encouraged at every level. Let us all work together to build a self-reliant, prosperous India that stands tall on the global stage. The future belongs to those who dare to dream and work hard to achieve it.\""
   ]
  },
  {
   "cell_type": "code",
   "execution_count": 64,
   "id": "44f5c338-38e1-4fbf-a006-ab9f5ef96dcd",
   "metadata": {},
   "outputs": [
    {
     "name": "stdout",
     "output_type": "stream",
     "text": [
      "Dreams are not what you see when you sleep; dreams are what do not let you sleep. Young minds must have a clear vision for the future. Knowledge is the foundation of growth, but it must be combined with perseverance and hard work. India has a great history of innovation and excellence. From ancient mathematics to modern space research, our nation has shown the world the power of determination. Every citizen has the potential to contribute to the development of the country. Education is not just about learning facts but about applying knowledge to solve real-world problems. Teachers play a crucial role in shaping young minds, and students must have a thirst for learning. Challenges will come, but with courage and faith, nothing is impossible. Science and technology are the backbones of progress, and innovation must be encouraged at every level. Let us all work together to build a self-reliant, prosperous India that stands tall on the global stage. The future belongs to those who dare to dream and work hard to achieve it.\n"
     ]
    }
   ],
   "source": [
    "print(paragraph)"
   ]
  },
  {
   "cell_type": "code",
   "execution_count": 65,
   "id": "aa522e81-9b40-4fe5-a829-08645f46da44",
   "metadata": {},
   "outputs": [],
   "source": [
    "from nltk.stem import PorterStemmer\n"
   ]
  },
  {
   "cell_type": "code",
   "execution_count": 66,
   "id": "8d8c5f79-b7d4-4040-9fc7-6480fe7c592c",
   "metadata": {},
   "outputs": [
    {
     "name": "stderr",
     "output_type": "stream",
     "text": [
      "[nltk_data] Downloading package stopwords to\n",
      "[nltk_data]     C:\\Users\\naman\\AppData\\Roaming\\nltk_data...\n",
      "[nltk_data]   Package stopwords is already up-to-date!\n"
     ]
    },
    {
     "data": {
      "text/plain": [
       "True"
      ]
     },
     "execution_count": 66,
     "metadata": {},
     "output_type": "execute_result"
    }
   ],
   "source": [
    "import nltk \n",
    "nltk.download('stopwords')"
   ]
  },
  {
   "cell_type": "code",
   "execution_count": 67,
   "id": "7fb96f45-8cf9-4446-b100-6664c40d28aa",
   "metadata": {},
   "outputs": [],
   "source": [
    "from nltk.corpus import stopwords"
   ]
  },
  {
   "cell_type": "code",
   "execution_count": null,
   "id": "507d4199-40e7-46c3-9064-50bc7508a615",
   "metadata": {},
   "outputs": [],
   "source": []
  },
  {
   "cell_type": "code",
   "execution_count": 68,
   "id": "01441e52-0ca4-4360-a63b-3fb45ec21686",
   "metadata": {},
   "outputs": [],
   "source": [
    "stemmer = PorterStemmer()"
   ]
  },
  {
   "cell_type": "code",
   "execution_count": 69,
   "id": "aef96e8b-0ddf-4530-8f2b-cf43e97b6cc1",
   "metadata": {},
   "outputs": [],
   "source": [
    "sentences = nltk.sent_tokenize(paragraph)"
   ]
  },
  {
   "cell_type": "code",
   "execution_count": 70,
   "id": "50e992f4-3345-4b90-814d-53129f4906ac",
   "metadata": {},
   "outputs": [
    {
     "data": {
      "text/plain": [
       "list"
      ]
     },
     "execution_count": 70,
     "metadata": {},
     "output_type": "execute_result"
    }
   ],
   "source": [
    "type(sentences)"
   ]
  },
  {
   "cell_type": "code",
   "execution_count": 71,
   "id": "aca151b9-55a1-44ae-8243-7d771de519be",
   "metadata": {},
   "outputs": [],
   "source": [
    "#### apply stopword and filter and then apply stemming \n",
    "\n",
    "for i in range(len(sentences)):\n",
    "    word = nltk.word_tokenize(sentences[i])\n",
    "    words =  [stemmer.stem(word) for word in word if word not in set(stopwords.words('english'))]\n",
    "    sentences[i] = ' '.join(words)# converting allthe words in the sentences "
   ]
  },
  {
   "cell_type": "code",
   "execution_count": 72,
   "id": "ff632fd0-5e7e-4ecf-9966-997fcf679002",
   "metadata": {},
   "outputs": [
    {
     "data": {
      "text/plain": [
       "['dream see sleep ; dream let sleep .',\n",
       " 'young mind must clear vision futur .',\n",
       " 'knowledg foundat growth , must combin persever hard work .',\n",
       " 'india great histori innov excel .',\n",
       " 'from ancient mathemat modern space research , nation shown world power determin .',\n",
       " 'everi citizen potenti contribut develop countri .',\n",
       " 'educ learn fact appli knowledg solv real-world problem .',\n",
       " 'teacher play crucial role shape young mind , student must thirst learn .',\n",
       " 'challeng come , courag faith , noth imposs .',\n",
       " 'scienc technolog backbon progress , innov must encourag everi level .',\n",
       " 'let us work togeth build self-reli , prosper india stand tall global stage .',\n",
       " 'the futur belong dare dream work hard achiev .']"
      ]
     },
     "execution_count": 72,
     "metadata": {},
     "output_type": "execute_result"
    }
   ],
   "source": [
    "sentences"
   ]
  },
  {
   "cell_type": "code",
   "execution_count": 73,
   "id": "f179504f-2a7a-43fb-86ec-0d383b441a5d",
   "metadata": {},
   "outputs": [],
   "source": [
    "### now using lemmatization \n",
    "from nltk.stem import WordNetLemmatizer\n",
    "#### apply stopword and filter and then apply stemming \n",
    "\n"
   ]
  },
  {
   "cell_type": "code",
   "execution_count": 78,
   "id": "1e80de6e-2462-4e5c-be47-9cc9523eb24a",
   "metadata": {},
   "outputs": [],
   "source": [
    "lemmatizer = WordNetLemmatizer()\n",
    "\n",
    "# Process each sentence\n",
    "for i in range(len(sentences)):\n",
    "    words = nltk.word_tokenize(sentences[i])  # Tokenize words\n",
    "    words = [lemmatizer.lemmatize(word.lower(),pos = 'v') for word in words if word not in set(stopwords.words('english'))]  # Stopword removal & lemmatization\n",
    "    sentences[i] = ' '.join(words)  # Convert words back into a sentence\n"
   ]
  },
  {
   "cell_type": "code",
   "execution_count": 80,
   "id": "0415fa72-bd88-4c57-9bdb-609f32f05bb9",
   "metadata": {},
   "outputs": [
    {
     "data": {
      "text/plain": [
       "['dream see sleep ; dream let sleep .',\n",
       " 'young mind must clear vision futur .',\n",
       " 'knowledg foundat growth , must combin persever hard work .',\n",
       " 'india great histori innov excel .',\n",
       " 'ancient mathemat modern space research , nation show world power determin .',\n",
       " 'everi citizen potenti contribut develop countri .',\n",
       " 'educ learn fact appli knowledg solv real-world problem .',\n",
       " 'teacher play crucial role shape young mind , student must thirst learn .',\n",
       " 'challeng come , courag faith , noth imposs .',\n",
       " 'scienc technolog backbon progress , innov must encourag everi level .',\n",
       " 'let us work togeth build self-reli , prosper india stand tall global stage .',\n",
       " 'futur belong dare dream work hard achiev .']"
      ]
     },
     "execution_count": 80,
     "metadata": {},
     "output_type": "execute_result"
    }
   ],
   "source": [
    "sentences"
   ]
  },
  {
   "cell_type": "code",
   "execution_count": null,
   "id": "a027bfea-dfb6-443f-a880-ca83c69278a6",
   "metadata": {},
   "outputs": [],
   "source": []
  },
  {
   "cell_type": "code",
   "execution_count": null,
   "id": "4acc2088-ba04-4106-82e9-e49c769731c7",
   "metadata": {},
   "outputs": [],
   "source": []
  }
 ],
 "metadata": {
  "kernelspec": {
   "display_name": "Python 3 (ipykernel)",
   "language": "python",
   "name": "python3"
  },
  "language_info": {
   "codemirror_mode": {
    "name": "ipython",
    "version": 3
   },
   "file_extension": ".py",
   "mimetype": "text/x-python",
   "name": "python",
   "nbconvert_exporter": "python",
   "pygments_lexer": "ipython3",
   "version": "3.12.7"
  }
 },
 "nbformat": 4,
 "nbformat_minor": 5
}
