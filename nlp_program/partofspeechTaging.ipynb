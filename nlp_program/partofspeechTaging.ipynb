{
 "cells": [
  {
   "cell_type": "code",
   "execution_count": 1,
   "id": "d85f515d-5a05-42e5-8cd0-cfb5412b4de9",
   "metadata": {},
   "outputs": [],
   "source": [
    "\n",
    "## POS TSGGING   ( parts of speech tagging)\n",
    "\n",
    "import nltk\n"
   ]
  },
  {
   "cell_type": "code",
   "execution_count": 2,
   "id": "656bf65b-d2ee-48be-8c8c-d2aa57356d23",
   "metadata": {},
   "outputs": [],
   "source": [
    "from nltk.tokenize import word_tokenize"
   ]
  },
  {
   "cell_type": "code",
   "execution_count": 3,
   "id": "d7f786d9-2655-4b5c-9ea6-66b19f64c1fd",
   "metadata": {},
   "outputs": [],
   "source": [
    "sentence = \" the quick way to gain muscles is to take tren \"\n"
   ]
  },
  {
   "cell_type": "code",
   "execution_count": 5,
   "id": "8a8950f3-3eb4-48e5-a16b-f712cc2d206a",
   "metadata": {},
   "outputs": [],
   "source": [
    "words = word_tokenize(sentence)"
   ]
  },
  {
   "cell_type": "code",
   "execution_count": 7,
   "id": "d7db8915-21e6-4579-817e-9c14bc331681",
   "metadata": {},
   "outputs": [],
   "source": [
    "pos_tags = nltk.pos_tag(words)"
   ]
  },
  {
   "cell_type": "code",
   "execution_count": 8,
   "id": "61b58932-3054-46da-85e2-319c315e0116",
   "metadata": {},
   "outputs": [
    {
     "name": "stdout",
     "output_type": "stream",
     "text": [
      "[('the', 'DT'), ('quick', 'JJ'), ('way', 'NN'), ('to', 'TO'), ('gain', 'VB'), ('muscles', 'NNS'), ('is', 'VBZ'), ('to', 'TO'), ('take', 'VB'), ('tren', 'NNS')]\n"
     ]
    }
   ],
   "source": [
    "print(pos_tags)"
   ]
  },
  {
   "cell_type": "code",
   "execution_count": null,
   "id": "cd9a1868-0aa7-4cd6-aa0c-4e1f9cc43c2e",
   "metadata": {},
   "outputs": [],
   "source": []
  }
 ],
 "metadata": {
  "kernelspec": {
   "display_name": "Python 3 (ipykernel)",
   "language": "python",
   "name": "python3"
  },
  "language_info": {
   "codemirror_mode": {
    "name": "ipython",
    "version": 3
   },
   "file_extension": ".py",
   "mimetype": "text/x-python",
   "name": "python",
   "nbconvert_exporter": "python",
   "pygments_lexer": "ipython3",
   "version": "3.12.7"
  }
 },
 "nbformat": 4,
 "nbformat_minor": 5
}
