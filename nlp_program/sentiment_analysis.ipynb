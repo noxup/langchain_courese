{
 "cells": [
  {
   "cell_type": "code",
   "execution_count": 12,
   "id": "225cdd95-05d9-426d-a2ff-d1265da17f01",
   "metadata": {},
   "outputs": [],
   "source": [
    "import nltk \n"
   ]
  },
  {
   "cell_type": "code",
   "execution_count": 13,
   "id": "594432e4-3288-4a88-9089-2a7222e6005a",
   "metadata": {},
   "outputs": [],
   "source": [
    "from nltk.sentiment import SentimentIntensityAnalyzer"
   ]
  },
  {
   "cell_type": "code",
   "execution_count": 14,
   "id": "4d62bec2-8cd9-418e-a86b-84f678d20348",
   "metadata": {},
   "outputs": [
    {
     "name": "stderr",
     "output_type": "stream",
     "text": [
      "[nltk_data] Downloading package vader_lexicon to\n",
      "[nltk_data]     C:\\Users\\naman\\AppData\\Roaming\\nltk_data...\n",
      "[nltk_data]   Package vader_lexicon is already up-to-date!\n"
     ]
    },
    {
     "data": {
      "text/plain": [
       "True"
      ]
     },
     "execution_count": 14,
     "metadata": {},
     "output_type": "execute_result"
    }
   ],
   "source": [
    "nltk.download('vader_lexicon')\n"
   ]
  },
  {
   "cell_type": "code",
   "execution_count": 15,
   "id": "52723f1a-1aaa-4d3f-914f-fdd4ba8d767e",
   "metadata": {},
   "outputs": [],
   "source": [
    "sent = SentimentIntensityAnalyzer()"
   ]
  },
  {
   "cell_type": "code",
   "execution_count": 16,
   "id": "f42e5e66-5e24-4202-90b7-a6fe060e4205",
   "metadata": {},
   "outputs": [],
   "source": [
    "text = \"I absolutely love this product! It's fantastic and works perfectly.\"\n"
   ]
  },
  {
   "cell_type": "code",
   "execution_count": 17,
   "id": "52891567-34ad-4fc8-9074-49bcde128543",
   "metadata": {},
   "outputs": [
    {
     "name": "stdout",
     "output_type": "stream",
     "text": [
      "{'neg': 0.0, 'neu': 0.323, 'pos': 0.677, 'compound': 0.9272}\n"
     ]
    }
   ],
   "source": [
    "sentiment_score = sent.polarity_scores(text)\n",
    "print(sentiment_score)"
   ]
  },
  {
   "cell_type": "markdown",
   "id": "e143fd0e-7537-44ba-8355-81e20caef79c",
   "metadata": {},
   "source": [
    "### neg: Negative sentiment score\n",
    "\n",
    "### neu: Neutral sentiment score\n",
    "\n",
    "### pos: Positive sentiment score\n",
    "\n",
    "\n",
    "### compound: Overall sentiment score (-1 to 1)"
   ]
  },
  {
   "cell_type": "code",
   "execution_count": 18,
   "id": "dfad65d6-72d8-4105-befc-82d9346ce6eb",
   "metadata": {},
   "outputs": [],
   "source": [
    "### clasify the sentiment \n",
    "\n",
    "def classify_sentiment(score):\n",
    "    if score['compound']>=0.05:\n",
    "        return \"positive 😀\"\n",
    "    elif score['compound'] <=-0.5:\n",
    "        return \"Negative 😠 \"\n",
    "    else:\n",
    "        return \"Natural \"\n",
    "    "
   ]
  },
  {
   "cell_type": "code",
   "execution_count": 19,
   "id": "aecc382f-933e-4e31-bcaf-0d1abbde33c5",
   "metadata": {},
   "outputs": [],
   "source": [
    "sentiment_result = classify_sentiment(sentiment_score)"
   ]
  },
  {
   "cell_type": "code",
   "execution_count": 20,
   "id": "cc580541-62b6-48f1-9974-3ae2606a60ba",
   "metadata": {},
   "outputs": [
    {
     "name": "stdout",
     "output_type": "stream",
     "text": [
      "Sentiment result is positive 😀.\n"
     ]
    }
   ],
   "source": [
    "print(f\"Sentiment result is {sentiment_result}.\")"
   ]
  },
  {
   "cell_type": "markdown",
   "id": "4800c39d-b9f1-4f41-abbb-6721c4bfad4c",
   "metadata": {},
   "source": [
    "### Summary\n",
    "### Install and import nltk\n",
    "### Download and initialize SentimentIntensityAnalyzer\n",
    "### Input the text for analysis\n",
    "### Get sentiment scores using .polarity_scores()\n",
    "### Classify the sentiment based on the compound score\n"
   ]
  },
  {
   "cell_type": "code",
   "execution_count": null,
   "id": "fdaa9b80-9c0f-43d6-9425-c2f9e6fb0f3c",
   "metadata": {},
   "outputs": [],
   "source": []
  }
 ],
 "metadata": {
  "kernelspec": {
   "display_name": "Python 3 (ipykernel)",
   "language": "python",
   "name": "python3"
  },
  "language_info": {
   "codemirror_mode": {
    "name": "ipython",
    "version": 3
   },
   "file_extension": ".py",
   "mimetype": "text/x-python",
   "name": "python",
   "nbconvert_exporter": "python",
   "pygments_lexer": "ipython3",
   "version": "3.12.7"
  }
 },
 "nbformat": 4,
 "nbformat_minor": 5
}
