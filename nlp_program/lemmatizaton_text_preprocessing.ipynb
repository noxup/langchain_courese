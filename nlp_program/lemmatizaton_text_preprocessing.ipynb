{
 "cells": [
  {
   "cell_type": "markdown",
   "id": "dee59177-1591-4cf0-8da7-03f7a1f72d2c",
   "metadata": {},
   "source": [
    "✅ Lemmatization in NLP\n",
    "Lemmatization is a process in Natural Language Processing (NLP) that reduces a word to its base or dictionary form (lemma) while ensuring that it remains a valid word.\n",
    "\n",
    "Unlike stemming, which simply removes suffixes, lemmatization considers the meaning and context of the word using a lexical database like WordNet."
   ]
  },
  {
   "cell_type": "markdown",
   "id": "44c3c7ea-7617-4845-856a-2090df262ebb",
   "metadata": {},
   "source": [
    "#\n",
    "\n",
    "When to Use Lemmatization?\n",
    "✔ When accurate dictionary-based normalization is required\n",
    "\n",
    "✔ When words must remain meaningful (unlike stemming)\n",
    "\n",
    "✔ When working on machine learning and NLP tasks like sentiment analysis\n",
    "\n",
    "\n",
    "✅ Lemmatization is preferred over stemming for advanced NLP \n",
    "tasks since it ensures the output remains a valid word. 🚀"
   ]
  },
  {
   "cell_type": "code",
   "execution_count": 8,
   "id": "d14c3d92-48dd-461b-8fed-41ecca6f1ad9",
   "metadata": {},
   "outputs": [
    {
     "name": "stderr",
     "output_type": "stream",
     "text": [
      "[nltk_data] Downloading package wordnet to\n",
      "[nltk_data]     C:\\Users\\naman\\AppData\\Roaming\\nltk_data...\n"
     ]
    },
    {
     "data": {
      "text/plain": [
       "True"
      ]
     },
     "execution_count": 8,
     "metadata": {},
     "output_type": "execute_result"
    }
   ],
   "source": [
    "import nltk\n",
    "nltk.download('wordnet')\n"
   ]
  },
  {
   "cell_type": "code",
   "execution_count": 10,
   "id": "bcd14f7d-e419-46e1-9822-407d8f0464ea",
   "metadata": {},
   "outputs": [],
   "source": [
    "from nltk.stem import WordNetLemmatizer"
   ]
  },
  {
   "cell_type": "code",
   "execution_count": 11,
   "id": "a34c958d-93f3-4ae3-8665-cc609f5467a4",
   "metadata": {},
   "outputs": [],
   "source": []
  },
  {
   "cell_type": "code",
   "execution_count": 24,
   "id": "82ac1de6-bcb9-4949-96c1-0f4bac371714",
   "metadata": {},
   "outputs": [],
   "source": [
    "words = [\n",
    "    \"running\", \"runs\", \"ran\", \"easily\", \"fairly\", \"happily\", \"studying\",\n",
    "    \"studies\", \"arguing\", \"argued\", \"flies\", \"crying\", \"cries\", \"playing\",\n",
    "    \"played\", \"playing\", \"dancing\", \"danced\", \"better\", \"faster\", \"largest\",\n",
    "    \"beautifully\", \"organization\", \"organizing\", \"organized\", \"happiness\"\n",
    "]\n"
   ]
  },
  {
   "cell_type": "code",
   "execution_count": 27,
   "id": "b0d35b7d-07cd-41c0-839e-8bbd02f7bcc2",
   "metadata": {},
   "outputs": [],
   "source": [
    "lemma = WordNetLemmatizer()"
   ]
  },
  {
   "cell_type": "markdown",
   "id": "d0fba48e-699d-41e8-9fb6-a040e540216a",
   "metadata": {},
   "source": [
    "🔹 Improving Accuracy with POS Tags\n",
    "To get better results, specify the Part of Speech (POS) tag:\n",
    "\n",
    "pos='n' → Noun (default)\n",
    "\n",
    "pos='v' → Verb\n",
    "\n",
    "pos='a' → Adjective\n",
    "\n",
    "pos='r' → Adverb"
   ]
  },
  {
   "cell_type": "code",
   "execution_count": 31,
   "id": "7d9ab724-2654-4463-9899-4baf830e335c",
   "metadata": {},
   "outputs": [
    {
     "name": "stdout",
     "output_type": "stream",
     "text": [
      "running → run\n",
      "runs → run\n",
      "ran → run\n",
      "easily → easily\n",
      "fairly → fairly\n",
      "happily → happily\n",
      "studying → study\n",
      "studies → study\n",
      "arguing → argue\n",
      "argued → argue\n",
      "flies → fly\n",
      "crying → cry\n",
      "cries → cry\n",
      "playing → play\n",
      "played → play\n",
      "playing → play\n",
      "dancing → dance\n",
      "danced → dance\n",
      "better → better\n",
      "faster → faster\n",
      "largest → largest\n",
      "beautifully → beautifully\n",
      "organization → organization\n",
      "organizing → organize\n",
      "organized → organize\n",
      "happiness → happiness\n"
     ]
    }
   ],
   "source": [
    "for word in words:\n",
    "    print(f\"{word} → {lemma.lemmatize(word,pos = 'v')}\")"
   ]
  },
  {
   "cell_type": "code",
   "execution_count": 46,
   "id": "ee293125-9544-4a54-af72-c1604b94be17",
   "metadata": {},
   "outputs": [
    {
     "name": "stdout",
     "output_type": "stream",
     "text": [
      "running → running\n",
      "runs → runs\n",
      "ran → ran\n",
      "easily → easily\n",
      "fairly → fairly\n",
      "happily → happily\n",
      "studying → studying\n",
      "studies → studies\n",
      "arguing → arguing\n",
      "argued → argued\n",
      "flies → flies\n",
      "crying → crying\n",
      "cries → cries\n",
      "playing → playing\n",
      "played → played\n",
      "playing → playing\n",
      "dancing → dancing\n",
      "danced → danced\n",
      "better → good\n",
      "faster → fast\n",
      "largest → large\n",
      "beautifully → beautifully\n",
      "organization → organization\n",
      "organizing → organizing\n",
      "organized → organized\n",
      "happiness → happiness\n"
     ]
    }
   ],
   "source": [
    "# Adjective\n",
    "for word in words:\n",
    "    print(f\"{word} → {lemma.lemmatize(word,pos = 'a')}\")#\n"
   ]
  },
  {
   "cell_type": "code",
   "execution_count": 47,
   "id": "cb0cb3ad-ff10-4332-a275-0bbc6824e738",
   "metadata": {},
   "outputs": [
    {
     "name": "stdout",
     "output_type": "stream",
     "text": [
      "running → running\n",
      "runs → run\n",
      "ran → ran\n",
      "easily → easily\n",
      "fairly → fairly\n",
      "happily → happily\n",
      "studying → studying\n",
      "studies → study\n",
      "arguing → arguing\n",
      "argued → argued\n",
      "flies → fly\n",
      "crying → cry\n",
      "cries → cry\n",
      "playing → playing\n",
      "played → played\n",
      "playing → playing\n",
      "dancing → dancing\n",
      "danced → danced\n",
      "better → better\n",
      "faster → faster\n",
      "largest → largest\n",
      "beautifully → beautifully\n",
      "organization → organization\n",
      "organizing → organizing\n",
      "organized → organized\n",
      "happiness → happiness\n"
     ]
    }
   ],
   "source": [
    "#default \n",
    "for word in words:\n",
    "    print(f\"{word} → {lemma.lemmatize(word)}\")#\n"
   ]
  },
  {
   "cell_type": "code",
   "execution_count": 48,
   "id": "7130862f-0d3c-409b-8aed-da2eec285206",
   "metadata": {},
   "outputs": [
    {
     "name": "stdout",
     "output_type": "stream",
     "text": [
      "running → running\n",
      "runs → runs\n",
      "ran → ran\n",
      "easily → easily\n",
      "fairly → fairly\n",
      "happily → happily\n",
      "studying → studying\n",
      "studies → studies\n",
      "arguing → arguing\n",
      "argued → argued\n",
      "flies → flies\n",
      "crying → crying\n",
      "cries → cries\n",
      "playing → playing\n",
      "played → played\n",
      "playing → playing\n",
      "dancing → dancing\n",
      "danced → danced\n",
      "better → well\n",
      "faster → faster\n",
      "largest → largest\n",
      "beautifully → beautifully\n",
      "organization → organization\n",
      "organizing → organizing\n",
      "organized → organized\n",
      "happiness → happiness\n"
     ]
    }
   ],
   "source": [
    "# Adverb\n",
    "for word in words:\n",
    "    print(f\"{word} → {lemma.lemmatize(word,pos = 'r')}\")#\n"
   ]
  },
  {
   "cell_type": "code",
   "execution_count": null,
   "id": "dc045489-9f22-4c55-819f-5757242260c8",
   "metadata": {},
   "outputs": [],
   "source": []
  }
 ],
 "metadata": {
  "kernelspec": {
   "display_name": "Python 3 (ipykernel)",
   "language": "python",
   "name": "python3"
  },
  "language_info": {
   "codemirror_mode": {
    "name": "ipython",
    "version": 3
   },
   "file_extension": ".py",
   "mimetype": "text/x-python",
   "name": "python",
   "nbconvert_exporter": "python",
   "pygments_lexer": "ipython3",
   "version": "3.12.7"
  }
 },
 "nbformat": 4,
 "nbformat_minor": 5
}
