{
 "cells": [
  {
   "cell_type": "markdown",
   "id": "f26b1751-376b-4510-a5a4-779752d7b64a",
   "metadata": {},
   "source": [
    "🔹 Named Entity Recognition (NER) in NLP using NLTK\n",
    "📌 What is Named Entity Recognition (NER)?\n",
    "Named Entity Recognition (NER) is the process of identifying and categorizing entities (such as names, organizations, locations, dates, etc.) in a given text. It helps in extracting valuable information from unstructured text.\n",
    "\n",
    "✅ Example of Named Entities:\n",
    "\n",
    "Person: Elon Musk, Albert Einstein\n",
    "\n",
    "Organization: Google, Microsoft\n",
    "\n",
    "Location: New York, India\n",
    "\n",
    "Date/Time: January 1, 2025, 10:00 AM\n",
    "\n",
    "Money: $100,000\n",
    "\n",
    "GPE (Geopolitical Entity): USA, France\n"
   ]
  },
  {
   "cell_type": "code",
   "execution_count": 30,
   "id": "dc0e8c7d-c808-4421-88f5-fafa857ebf8b",
   "metadata": {},
   "outputs": [],
   "source": [
    "text = \"Elon Musk is the CEO of Tesla. He was born in Pretoria,South Africa in 1971.\"\n"
   ]
  },
  {
   "cell_type": "code",
   "execution_count": 31,
   "id": "cd92fd6c-c512-498c-93a2-4baee03a69ad",
   "metadata": {},
   "outputs": [],
   "source": [
    "import nltk \n",
    "words = nltk.word_tokenize(text)"
   ]
  },
  {
   "cell_type": "code",
   "execution_count": 32,
   "id": "4a2895f2-67c6-4491-8b87-10be3d9ac432",
   "metadata": {},
   "outputs": [
    {
     "data": {
      "text/plain": [
       "['Elon',\n",
       " 'Musk',\n",
       " 'is',\n",
       " 'the',\n",
       " 'CEO',\n",
       " 'of',\n",
       " 'Tesla',\n",
       " '.',\n",
       " 'He',\n",
       " 'was',\n",
       " 'born',\n",
       " 'in',\n",
       " 'Pretoria',\n",
       " ',',\n",
       " 'South',\n",
       " 'Africa',\n",
       " 'in',\n",
       " '1971',\n",
       " '.']"
      ]
     },
     "execution_count": 32,
     "metadata": {},
     "output_type": "execute_result"
    }
   ],
   "source": [
    "words"
   ]
  },
  {
   "cell_type": "code",
   "execution_count": 33,
   "id": "a9497dc2-9bc8-4aee-a4eb-c80c1ddffb52",
   "metadata": {},
   "outputs": [],
   "source": [
    "tags_element = nltk.pos_tag(words)"
   ]
  },
  {
   "cell_type": "code",
   "execution_count": 34,
   "id": "5c1b5dbf-f60e-4e50-95d1-ffa0832c4cf1",
   "metadata": {},
   "outputs": [
    {
     "data": {
      "text/plain": [
       "[('Elon', 'NNP'),\n",
       " ('Musk', 'NNP'),\n",
       " ('is', 'VBZ'),\n",
       " ('the', 'DT'),\n",
       " ('CEO', 'NN'),\n",
       " ('of', 'IN'),\n",
       " ('Tesla', 'NNP'),\n",
       " ('.', '.'),\n",
       " ('He', 'PRP'),\n",
       " ('was', 'VBD'),\n",
       " ('born', 'VBN'),\n",
       " ('in', 'IN'),\n",
       " ('Pretoria', 'NNP'),\n",
       " (',', ','),\n",
       " ('South', 'NNP'),\n",
       " ('Africa', 'NNP'),\n",
       " ('in', 'IN'),\n",
       " ('1971', 'CD'),\n",
       " ('.', '.')]"
      ]
     },
     "execution_count": 34,
     "metadata": {},
     "output_type": "execute_result"
    }
   ],
   "source": [
    "tags_element"
   ]
  },
  {
   "cell_type": "code",
   "execution_count": 35,
   "id": "233f60ee-6cbe-4251-9227-f1d6040e89e9",
   "metadata": {},
   "outputs": [
    {
     "name": "stdout",
     "output_type": "stream",
     "text": [
      "Requirement already satisfied: svgling in c:\\users\\naman\\anaconda3\\lib\\site-packages (0.5.0)\n",
      "Requirement already satisfied: svgwrite in c:\\users\\naman\\anaconda3\\lib\\site-packages (from svgling) (1.4.3)\n"
     ]
    }
   ],
   "source": [
    "!pip install svgling\n",
    "\n"
   ]
  },
  {
   "cell_type": "code",
   "execution_count": 36,
   "id": "99d2f379-d8be-4030-b4f8-3f8d66839ef6",
   "metadata": {},
   "outputs": [
    {
     "name": "stderr",
     "output_type": "stream",
     "text": [
      "[nltk_data] Downloading package maxent_ne_chunker to\n",
      "[nltk_data]     C:\\Users\\naman\\AppData\\Roaming\\nltk_data...\n",
      "[nltk_data]   Package maxent_ne_chunker is already up-to-date!\n"
     ]
    },
    {
     "data": {
      "text/plain": [
       "True"
      ]
     },
     "execution_count": 36,
     "metadata": {},
     "output_type": "execute_result"
    }
   ],
   "source": [
    "nltk.download(\"maxent_ne_chunker\")\n"
   ]
  },
  {
   "cell_type": "code",
   "execution_count": 38,
   "id": "fb49335c-8401-4b6c-98dd-4b068c60831d",
   "metadata": {},
   "outputs": [],
   "source": [
    "nltk.ne_chunk(tags_element).draw()"
   ]
  },
  {
   "cell_type": "code",
   "execution_count": null,
   "id": "696f8824-eca3-4769-8e26-407a527135ae",
   "metadata": {},
   "outputs": [],
   "source": []
  }
 ],
 "metadata": {
  "kernelspec": {
   "display_name": "Python 3 (ipykernel)",
   "language": "python",
   "name": "python3"
  },
  "language_info": {
   "codemirror_mode": {
    "name": "ipython",
    "version": 3
   },
   "file_extension": ".py",
   "mimetype": "text/x-python",
   "name": "python",
   "nbconvert_exporter": "python",
   "pygments_lexer": "ipython3",
   "version": "3.12.7"
  }
 },
 "nbformat": 4,
 "nbformat_minor": 5
}
