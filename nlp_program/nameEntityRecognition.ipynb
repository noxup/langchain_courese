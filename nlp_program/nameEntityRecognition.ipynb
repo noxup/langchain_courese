{
 "cells": [
  {
   "cell_type": "markdown",
   "id": "f26b1751-376b-4510-a5a4-779752d7b64a",
   "metadata": {},
   "source": [
    "🔹 Named Entity Recognition (NER) in NLP using NLTK\n",
    "📌 What is Named Entity Recognition (NER)?\n",
    "Named Entity Recognition (NER) is the process of identifying and categorizing entities (such as names, organizations, locations, dates, etc.) in a given text. It helps in extracting valuable information from unstructured text.\n",
    "\n",
    "✅ Example of Named Entities:\n",
    "\n",
    "Person: Elon Musk, Albert Einstein\n",
    "\n",
    "Organization: Google, Microsoft\n",
    "\n",
    "Location: New York, India\n",
    "\n",
    "Date/Time: January 1, 2025, 10:00 AM\n",
    "\n",
    "Money: $100,000\n",
    "\n",
    "GPE (Geopolitical Entity): USA, France\n"
   ]
  },
  {
   "cell_type": "code",
   "execution_count": null,
   "id": "dc0e8c7d-c808-4421-88f5-fafa857ebf8b",
   "metadata": {},
   "outputs": [],
   "source": []
  }
 ],
 "metadata": {
  "kernelspec": {
   "display_name": "Python 3 (ipykernel)",
   "language": "python",
   "name": "python3"
  },
  "language_info": {
   "codemirror_mode": {
    "name": "ipython",
    "version": 3
   },
   "file_extension": ".py",
   "mimetype": "text/x-python",
   "name": "python",
   "nbconvert_exporter": "python",
   "pygments_lexer": "ipython3",
   "version": "3.12.7"
  }
 },
 "nbformat": 4,
 "nbformat_minor": 5
}
