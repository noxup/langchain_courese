{
 "cells": [
  {
   "cell_type": "code",
   "execution_count": 1,
   "id": "5805c75a-d8b7-4104-bc65-e9d667e6f79a",
   "metadata": {},
   "outputs": [],
   "source": [
    "import nltk"
   ]
  },
  {
   "cell_type": "code",
   "execution_count": 15,
   "id": "0829da6d-1bc7-4b24-a42a-129da35e018e",
   "metadata": {},
   "outputs": [],
   "source": [
    "corpus =[ \"\"\"Elon Musk, the CEO of Tesla and founder of SpaceX, launched the first reusable rocket in 2015, revolutionizing the space industry. Meanwhile, Amazon, a company founded by Jeff Bezos in 1994, continues to dominate the e-commerce sector. Recently, Apple unveiled the latest iPhone 15, featuring an improved camera and enhanced AI capabilities. Many tech enthusiasts have praised the device, calling it \"the best smartphone of the year,\" while some critics argue that the price is too high.\n",
    "\n",
    "On another note, scientists at Harvard University have discovered a new drug that could significantly reduce the risk of heart disease. This breakthrough has been hailed as a \"game-changer\" in the medical field. Additionally, experts suggest that regular exercise, yoga, and meditation can contribute to a healthier lifestyle by reducing stress and improving mental well-being.\n",
    "\n",
    "In other news, a powerful earthquake struck California last night, causing widespread damage and prompting emergency evacuations. Authorities are working around the clock to provide relief to affected residents.\n",
    "\n",
    "With advancements in technology and medicine, the world continues to evolve rapidly, bringing both opportunities and challenges.\n",
    "\n",
    "\"\"\"]"
   ]
  },
  {
   "cell_type": "code",
   "execution_count": 16,
   "id": "995cff70-149e-4db1-a30b-e4984f014e2c",
   "metadata": {},
   "outputs": [
    {
     "data": {
      "text/plain": [
       "['Elon Musk, the CEO of Tesla and founder of SpaceX, launched the first reusable rocket in 2015, revolutionizing the space industry. Meanwhile, Amazon, a company founded by Jeff Bezos in 1994, continues to dominate the e-commerce sector. Recently, Apple unveiled the latest iPhone 15, featuring an improved camera and enhanced AI capabilities. Many tech enthusiasts have praised the device, calling it \"the best smartphone of the year,\" while some critics argue that the price is too high.\\n\\nOn another note, scientists at Harvard University have discovered a new drug that could significantly reduce the risk of heart disease. This breakthrough has been hailed as a \"game-changer\" in the medical field. Additionally, experts suggest that regular exercise, yoga, and meditation can contribute to a healthier lifestyle by reducing stress and improving mental well-being.\\n\\nIn other news, a powerful earthquake struck California last night, causing widespread damage and prompting emergency evacuations. Authorities are working around the clock to provide relief to affected residents.\\n\\nWith advancements in technology and medicine, the world continues to evolve rapidly, bringing both opportunities and challenges.\\n\\n']"
      ]
     },
     "execution_count": 16,
     "metadata": {},
     "output_type": "execute_result"
    }
   ],
   "source": [
    "corpus"
   ]
  },
  {
   "cell_type": "code",
   "execution_count": 17,
   "id": "af64826b-55e4-4cc6-8b92-b5fe7dfbbe62",
   "metadata": {},
   "outputs": [],
   "source": [
    "import numpy as np \n",
    "import pandas as pd \n"
   ]
  },
  {
   "cell_type": "code",
   "execution_count": 18,
   "id": "1265a744-da68-4b70-b757-b0609255409d",
   "metadata": {},
   "outputs": [],
   "source": [
    "from sklearn.feature_extraction.text import CountVectorizer"
   ]
  },
  {
   "cell_type": "code",
   "execution_count": 19,
   "id": "9bcc7c29-c511-4515-8fe1-846b12fddc6d",
   "metadata": {},
   "outputs": [],
   "source": [
    "vector = CountVectorizer() ### initialize the vectorizer\n",
    "\n"
   ]
  },
  {
   "cell_type": "code",
   "execution_count": 22,
   "id": "38181be3-bf74-4225-81b1-01557d912950",
   "metadata": {},
   "outputs": [],
   "source": [
    "x= vector.fit_transform(corpus)  # Fit and transform the text data\n"
   ]
  },
  {
   "cell_type": "code",
   "execution_count": 23,
   "id": "16dfdf0c-a0f4-439b-b46e-85034582ea1a",
   "metadata": {},
   "outputs": [],
   "source": [
    "df = pd.DataFrame(x.toarray(), columns = vector.get_feature_names_out())"
   ]
  },
  {
   "cell_type": "code",
   "execution_count": 24,
   "id": "05d69d8e-d7e5-44bb-b94d-770c2746da62",
   "metadata": {},
   "outputs": [
    {
     "name": "stdout",
     "output_type": "stream",
     "text": [
      "   15  1994  2015  additionally  advancements  affected  ai  amazon  an  and  \\\n",
      "0   1     1     1             1             1         1   1       1   1    7   \n",
      "\n",
      "   ...  university  unveiled  well  while  widespread  with  working  world  \\\n",
      "0  ...           1         1     1      1           1     1        1      1   \n",
      "\n",
      "   year  yoga  \n",
      "0     1     1  \n",
      "\n",
      "[1 rows x 141 columns]\n"
     ]
    }
   ],
   "source": [
    "print(df)"
   ]
  },
  {
   "cell_type": "code",
   "execution_count": null,
   "id": "f727a574-5f5b-440a-9505-893bcf992166",
   "metadata": {},
   "outputs": [],
   "source": []
  }
 ],
 "metadata": {
  "kernelspec": {
   "display_name": "Python 3 (ipykernel)",
   "language": "python",
   "name": "python3"
  },
  "language_info": {
   "codemirror_mode": {
    "name": "ipython",
    "version": 3
   },
   "file_extension": ".py",
   "mimetype": "text/x-python",
   "name": "python",
   "nbconvert_exporter": "python",
   "pygments_lexer": "ipython3",
   "version": "3.12.7"
  }
 },
 "nbformat": 4,
 "nbformat_minor": 5
}
