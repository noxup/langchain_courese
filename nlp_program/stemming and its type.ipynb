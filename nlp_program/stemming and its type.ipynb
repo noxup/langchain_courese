{
 "cells": [
  {
   "cell_type": "markdown",
   "id": "f7c235f7-aa23-48c6-a170-b0194fea0f32",
   "metadata": {},
   "source": [
    "Stemming \n",
    "\n",
    "classification product \n",
    "\n",
    "comments of product has a positive or negative review\n",
    "\n",
    "review --->running, runs, run \n",
    "\n",
    "removes the suffixes and makes the base work \n",
    "\n",
    "import nltk\n",
    "\n"
   ]
  },
  {
   "cell_type": "code",
   "execution_count": 2,
   "id": "c54eb881-ea95-47fb-a3f4-94eedfcf5200",
   "metadata": {},
   "outputs": [],
   "source": [
    "words = [\n",
    "    \"running\", \"runner\", \"runs\", \"ran\",  \n",
    "    \"easily\", \"fairly\", \"happily\", \"quickly\",  \n",
    "    \"studying\", \"studies\", \"studied\",  \n",
    "    \"arguing\", \"argued\", \"argues\",  \n",
    "    \"organization\", \"organizations\",  \n",
    "    \"analysis\", \"analyst\", \"analytical\",  \n",
    "    \"controlling\", \"controlled\", \"controls\",  \n",
    "    \"flying\", \"flies\", \"flight\",  \n",
    "    \"creating\", \"creates\", \"created\"\n",
    "]\n"
   ]
  },
  {
   "cell_type": "code",
   "execution_count": 10,
   "id": "a157c411-dfe2-4a75-a372-5f900faf4599",
   "metadata": {},
   "outputs": [],
   "source": [
    "##porter stemmer \n",
    "from nltk.stem import PorterStemmer"
   ]
  },
  {
   "cell_type": "code",
   "execution_count": 11,
   "id": "0056ab67-7209-4403-887b-14177a8a5fcf",
   "metadata": {},
   "outputs": [],
   "source": [
    "\n",
    "stemmer = PorterStemmer()\n",
    "\n",
    "\n"
   ]
  },
  {
   "cell_type": "code",
   "execution_count": 12,
   "id": "8d25447f-6f9d-4002-9798-fc71272c0da7",
   "metadata": {},
   "outputs": [
    {
     "name": "stdout",
     "output_type": "stream",
     "text": [
      "running → run\n",
      "runner → runner\n",
      "runs → run\n",
      "ran → ran\n",
      "easily → easili\n",
      "fairly → fairli\n",
      "happily → happili\n",
      "quickly → quickli\n",
      "studying → studi\n",
      "studies → studi\n",
      "studied → studi\n",
      "arguing → argu\n",
      "argued → argu\n",
      "argues → argu\n",
      "organization → organ\n",
      "organizations → organ\n",
      "analysis → analysi\n",
      "analyst → analyst\n",
      "analytical → analyt\n",
      "controlling → control\n",
      "controlled → control\n",
      "controls → control\n",
      "flying → fli\n",
      "flies → fli\n",
      "flight → flight\n",
      "creating → creat\n",
      "creates → creat\n",
      "created → creat\n"
     ]
    }
   ],
   "source": [
    "for word in words:\n",
    "    print(f\"{word} → {stemmer.stem(word)}\")"
   ]
  },
  {
   "cell_type": "markdown",
   "id": "80d158aa-a969-41f8-81f3-1312a79addda",
   "metadata": {},
   "source": [
    "the above output has some unchanged word becouse the \n",
    "stemming is rule-based and does not always\n",
    "produce linguistically correct words."
   ]
  },
  {
   "cell_type": "code",
   "execution_count": 17,
   "id": "8358f942-771c-4c11-86de-fd981fc1e0f9",
   "metadata": {},
   "outputs": [
    {
     "data": {
      "text/plain": [
       "'congratul'"
      ]
     },
     "execution_count": 17,
     "metadata": {},
     "output_type": "execute_result"
    }
   ],
   "source": [
    "## disadvantages\n",
    "stemmer.stem('congratulation')\n"
   ]
  },
  {
   "cell_type": "code",
   "execution_count": 18,
   "id": "a7df8bba-f2e0-4e8e-bbbf-8cb00f6089e5",
   "metadata": {},
   "outputs": [
    {
     "data": {
      "text/plain": [
       "'sit'"
      ]
     },
     "execution_count": 18,
     "metadata": {},
     "output_type": "execute_result"
    }
   ],
   "source": [
    "stemmer.stem('sitting')"
   ]
  },
  {
   "cell_type": "markdown",
   "id": "a0098840-6a7e-4608-8964-9cd3ecc91819",
   "metadata": {},
   "source": [
    "### RegexpStmming class "
   ]
  },
  {
   "cell_type": "code",
   "execution_count": 19,
   "id": "82317ad7-ea34-43bd-90df-b5b424ae4e0a",
   "metadata": {},
   "outputs": [],
   "source": [
    "\n",
    "\"\"\" \n",
    "A class with the help of which we can \n",
    "easily implement a regular expression stemmer algorithm.\n",
    "It takes a single regular expression and \n",
    "removes any prefix that matches the expression \n",
    "\"\"\"\n",
    "\n",
    "from nltk.stem import RegexpStemmer"
   ]
  },
  {
   "cell_type": "code",
   "execution_count": 25,
   "id": "c5349c1c-f20e-480b-aa94-20be6c247a97",
   "metadata": {},
   "outputs": [],
   "source": [
    "reg_stemmer = RegexpStemmer(r'ing$|s$|ed$|able$', min=4)"
   ]
  },
  {
   "cell_type": "markdown",
   "id": "31f5b6e0-097c-48ce-adb8-79dc8dddf02a",
   "metadata": {},
   "source": [
    "The patternreg_stemmer = RegexpStemmer(r'ing$|s$|ed$|able$', min=4) \n",
    "removes \"ing\", \"ed\", and \"s\" from words.\n",
    "\n",
    "\n",
    "The min=4 parameter ensures that words shorter than characters are not stemmed.\n",
    "\n",
    "Example:\n",
    "\n",
    "\"running\" → \"runn\" (removes \"ing\")\n",
    "\n",
    "\"cars\" → \"car\" (removes \"s\")\n",
    "\n",
    "\"controlled\" → \"controll\" (removes \"ed\")\n"
   ]
  },
  {
   "cell_type": "code",
   "execution_count": 27,
   "id": "d697e133-c3dc-459b-ad77-b629def9c5cf",
   "metadata": {},
   "outputs": [
    {
     "data": {
      "text/plain": [
       "'eat'"
      ]
     },
     "execution_count": 27,
     "metadata": {},
     "output_type": "execute_result"
    }
   ],
   "source": [
    "reg_stemmer.stem(\"eating\")"
   ]
  },
  {
   "cell_type": "code",
   "execution_count": 29,
   "id": "6fa338a9-8bd0-414b-82eb-e946380f7806",
   "metadata": {},
   "outputs": [
    {
     "data": {
      "text/plain": [
       "'congratulation'"
      ]
     },
     "execution_count": 29,
     "metadata": {},
     "output_type": "execute_result"
    }
   ],
   "source": [
    "reg_stemmer.stem(\"congratulations\")"
   ]
  },
  {
   "cell_type": "markdown",
   "id": "f21851ec-1287-4089-88f7-d436c8a2840f",
   "metadata": {},
   "source": [
    "## snow stemmer "
   ]
  },
  {
   "cell_type": "code",
   "execution_count": 30,
   "id": "25c68da2-6794-4a02-b96e-648c76eb66cc",
   "metadata": {},
   "outputs": [],
   "source": [
    "from nltk.stem import SnowballStemmer"
   ]
  },
  {
   "cell_type": "code",
   "execution_count": 31,
   "id": "5ddd806a-d40a-4c20-914f-23f13ddc90ad",
   "metadata": {},
   "outputs": [],
   "source": [
    "snow = SnowballStemmer('english')"
   ]
  },
  {
   "cell_type": "code",
   "execution_count": 33,
   "id": "e13e128c-31be-441b-818a-1e52318cb8b5",
   "metadata": {},
   "outputs": [
    {
     "name": "stdout",
     "output_type": "stream",
     "text": [
      "running → run\n",
      "runner → runner\n",
      "runs → run\n",
      "ran → ran\n",
      "easily → easili\n",
      "fairly → fair\n",
      "happily → happili\n",
      "quickly → quick\n",
      "studying → studi\n",
      "studies → studi\n",
      "studied → studi\n",
      "arguing → argu\n",
      "argued → argu\n",
      "argues → argu\n",
      "organization → organ\n",
      "organizations → organ\n",
      "analysis → analysi\n",
      "analyst → analyst\n",
      "analytical → analyt\n",
      "controlling → control\n",
      "controlled → control\n",
      "controls → control\n",
      "flying → fli\n",
      "flies → fli\n",
      "flight → flight\n",
      "creating → creat\n",
      "creates → creat\n",
      "created → creat\n"
     ]
    }
   ],
   "source": [
    "for word in words:\n",
    "    print(f\"{word} → {snow.stem(word)}\")"
   ]
  },
  {
   "cell_type": "code",
   "execution_count": 35,
   "id": "9924e06d-80cf-4e07-9873-9757d941888d",
   "metadata": {},
   "outputs": [
    {
     "data": {
      "text/plain": [
       "('fairli', 'sportingli')"
      ]
     },
     "execution_count": 35,
     "metadata": {},
     "output_type": "execute_result"
    }
   ],
   "source": [
    "stemmer.stem('fairly'),stemmer.stem('sportingly')\n",
    "\n",
    "\n"
   ]
  },
  {
   "cell_type": "code",
   "execution_count": 36,
   "id": "f59fdc30-3224-4923-aacd-e6c018bbce99",
   "metadata": {},
   "outputs": [
    {
     "data": {
      "text/plain": [
       "('fair', 'sport')"
      ]
     },
     "execution_count": 36,
     "metadata": {},
     "output_type": "execute_result"
    }
   ],
   "source": [
    "snow.stem('fairly'),snow.stem('sportingly')"
   ]
  },
  {
   "cell_type": "markdown",
   "id": "8a379640-0c1b-4e7d-ace0-d4ad6c746b22",
   "metadata": {},
   "source": [
    "compair to porter stemmer the snowball stemmer is performing well "
   ]
  },
  {
   "cell_type": "code",
   "execution_count": null,
   "id": "dd86a734-151f-4967-ba09-4c6b3fdf4810",
   "metadata": {},
   "outputs": [],
   "source": []
  }
 ],
 "metadata": {
  "kernelspec": {
   "display_name": "Python 3 (ipykernel)",
   "language": "python",
   "name": "python3"
  },
  "language_info": {
   "codemirror_mode": {
    "name": "ipython",
    "version": 3
   },
   "file_extension": ".py",
   "mimetype": "text/x-python",
   "name": "python",
   "nbconvert_exporter": "python",
   "pygments_lexer": "ipython3",
   "version": "3.12.7"
  }
 },
 "nbformat": 4,
 "nbformat_minor": 5
}
